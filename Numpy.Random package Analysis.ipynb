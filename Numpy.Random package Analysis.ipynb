{
 "cells": [
  {
   "cell_type": "markdown",
   "metadata": {},
   "source": [
    "# This is a Jupyter notebook explaining the use of the Numpy.Random package as part of the Practical Assigment for the module Programming for Data Analysis 2018"
   ]
  },
  {
   "cell_type": "markdown",
   "metadata": {},
   "source": [
    "<img src=\"https://upload.wikimedia.org/wikipedia/commons/thumb/1/1a/NumPy_logo.svg/1200px-NumPy_logo.svg.png\">"
   ]
  },
  {
   "cell_type": "markdown",
   "metadata": {},
   "source": [
    "## Problem statement:\n",
    "\n",
    "1. Explain the overall purpose of the package.\n",
    "2. Explain the use of the “Simple random data” and “Permutations” functions.\n",
    "3. Explain the use and purpose of at least five “Distributions” functions.\n",
    "4. Explain the use of seeds in generating pseudorandom numbers."
   ]
  },
  {
   "cell_type": "markdown",
   "metadata": {},
   "source": [
    "## Overall purpose of the package:"
   ]
  },
  {
   "cell_type": "markdown",
   "metadata": {},
   "source": [
    "The numpy.random package is used to generate random numbers, it is a sub package of the Numpy package in Python. Numpy is an important package in Python as a lot of other packages depend on it but interacting with the package directly is not actually that common, typically users would interact with it through the use of other packages such as Pandas or SciPy.\n",
    "\n",
    "NumPy is a specialist package dealing with multi dimensional arrays or lists within lists, it is a very efficient method to perform operations on these arrays or matrices using algorithims that have been developed during research on numerical objects over the last half century.\n",
    "\n",
    "It is common to start with a csv imported in to Numpy or in to Pandas which then uses NumPy in the background. If no csv file then you could use the Numpy.Random package to generate simulated data or arrays of numbers which follow a certian pattern.\n",
    "\n",
    "Almost any interesting computing task e.g. image compression involves matrix operations at its most basic level and therefor NumPy is essential as the most efficient method of handling these operations.\n",
    "\n",
    "\n"
   ]
  },
  {
   "cell_type": "markdown",
   "metadata": {},
   "source": [
    "## To be removed:\n",
    "## Rather than giving a summary of each individual function I would give a general explanation of what the library does and reference the various functions in that explanation.\n",
    "\n",
    "Note that the numpy documentation already lists each function, what it does and what inputs and outputs it has. There's no point in just re-writing the documentation in your notebook. It would be better to write an illuminating notebook about what the library does overall.\n",
    "\n",
    "Even though there are a lot of functions in the package, they all are actually variations on the basic notion of drawing values from probability distributions. For instance, the functions in \"Simple random data\" are just convenience functions for using the \"Distributions\" functions. There's not a lot to them and they're all quite similar.\n",
    "\n",
    "Think of your notebook as giving the flavour of what the package is about, using plots, words, and code snippets. There's no point in re-writing the numpy documentation out.\n",
    "\n",
    "Bell shaped curve"
   ]
  },
  {
   "cell_type": "markdown",
   "metadata": {},
   "source": [
    "## Simple Random Data Functions:\n",
    "\n",
    "The functions in \"Simple random data\" are just convenience functions for using the \"Distributions\" functions.They are straight forward and are all quite similar."
   ]
  },
  {
   "cell_type": "markdown",
   "metadata": {},
   "source": [
    "### 1. rand\n",
    "Generates random numbers on the fly, depending on what paramaetrs are entered for the amount of rows and columns.\n",
    "[0, 1) generates numbers between 0 and 1 but less than 1. The square bracket indicates including 0, the round bracket indicates not including 1. The parameters should be positive integers. \n",
    "The **rand** function uses the continuous uniform distribution as the probability distribution, which influences the chances of a value being selected within the range.\n",
    "The likelihood of any value within the limits of the range occuring is uniformly equal.\n"
   ]
  },
  {
   "cell_type": "code",
   "execution_count": 1,
   "metadata": {},
   "outputs": [],
   "source": [
    "# import numpy package in order to use numpy\n",
    "import numpy as np"
   ]
  },
  {
   "cell_type": "code",
   "execution_count": 2,
   "metadata": {
    "scrolled": true
   },
   "outputs": [
    {
     "data": {
      "text/plain": [
       "array([0.45589039, 0.33120748, 0.41442395, 0.06114159, 0.96637819,\n",
       "       0.34403348, 0.96114132, 0.38305831])"
      ]
     },
     "execution_count": 2,
     "metadata": {},
     "output_type": "execute_result"
    }
   ],
   "source": [
    "x = np.random.rand(8)\n",
    "x\n",
    "# returns an array with 8 elements, what is in the brackets determines the shape of the array"
   ]
  },
  {
   "cell_type": "code",
   "execution_count": 3,
   "metadata": {},
   "outputs": [
    {
     "data": {
      "text/plain": [
       "array([[0.4902017 , 0.0517357 ],\n",
       "       [0.89580426, 0.35771414],\n",
       "       [0.48521934, 0.55197466]])"
      ]
     },
     "execution_count": 3,
     "metadata": {},
     "output_type": "execute_result"
    }
   ],
   "source": [
    "np.random.rand(3,2)\n",
    "# returns a two dimensional array with 3 rows and 2 columns, or 3 arrays within an array each with two elements"
   ]
  },
  {
   "cell_type": "code",
   "execution_count": 4,
   "metadata": {},
   "outputs": [
    {
     "data": {
      "text/plain": [
       "array([[0.79563074, 0.49381471],\n",
       "       [0.40142239, 0.35872325],\n",
       "       [0.96757874, 0.94179719],\n",
       "       [0.26778343, 0.41981139]])"
      ]
     },
     "execution_count": 4,
     "metadata": {},
     "output_type": "execute_result"
    }
   ],
   "source": [
    "np.random.rand(4,2)\n",
    "# rerun the function, returns another array of same type but now with 4 rows and the numbers are different AND random"
   ]
  },
  {
   "cell_type": "code",
   "execution_count": 6,
   "metadata": {},
   "outputs": [
    {
     "data": {
      "text/plain": [
       "0.9148834246789037"
      ]
     },
     "execution_count": 6,
     "metadata": {},
     "output_type": "execute_result"
    }
   ],
   "source": [
    "np.random.rand()\n",
    "# pass no arguements into the array returns a single random number"
   ]
  },
  {
   "cell_type": "markdown",
   "metadata": {},
   "source": [
    "Generating a plot using matpoltlib indicating how the **rand** function generates the random numbers. This is a histogram for a continuous variable (all the values from 0 up to 1), the histogram function picks a reasonable number of bars to chop the data up in to (10 in this case) and displays a bar for each interval, e.g.0.0 to approx 0.1 shows approx 100 values on the Y axis. The **rand** function has generated 1000 numbers between 0 and up to 1, with approx. 90 to 115 values in each interval. All of the numbers between 0 and up to 1 have the same chance or probability of appearing in the randomly generated list."
   ]
  },
  {
   "cell_type": "code",
   "execution_count": 36,
   "metadata": {},
   "outputs": [
    {
     "data": {
      "image/png": "[encoded data removed]",
      "text/plain": [
       "<matplotlib.figure.Figure at 0x27eda5519e8>"
      ]
     },
     "metadata": {},
     "output_type": "display_data"
    }
   ],
   "source": [
    "%matplotlib inline\n",
    "import matplotlib.pyplot as plt\n",
    "x = np.random.rand(1000)\n",
    "\n",
    "plt.hist (x)\n",
    "\n",
    "plt.show()"
   ]
  },
  {
   "cell_type": "markdown",
   "metadata": {},
   "source": [
    "### 2. randn"
   ]
  },
  {
   "cell_type": "markdown",
   "metadata": {},
   "source": [
    "Generates random values for a range between 0 and 1, again including 0 but not including 1. The **randn** function uses the normal distribution as the probability distribution, which influences the chances of a value being selected within the range. See the Histogram of a Normal Distribution below. The probability is skewed so that values at the centre of the range are more likely to occur than values at the extremeties of the range (i.e. values close to the minimum and maximum of the range)."
   ]
  },
  {
   "cell_type": "code",
   "execution_count": 9,
   "metadata": {
    "scrolled": true
   },
   "outputs": [
    {
     "data": {
      "text/plain": [
       "array([-9.08763913e-01,  2.92237659e+00, -8.59455250e-02, -3.52226319e-01,\n",
       "        1.50852654e+00,  4.82517704e-01,  1.20796379e+00,  1.21982725e+00,\n",
       "       -3.79632079e-01, -1.26836962e+00,  6.01795305e-02, -6.93191095e-02,\n",
       "       -3.94818461e-01, -5.15854785e-01, -6.16790034e-01, -1.09243408e+00,\n",
       "        1.75529818e+00, -2.97332716e-01, -3.48065378e-01,  1.32776996e+00,\n",
       "       -5.22612490e-01,  1.44045022e+00,  9.43884077e-01, -3.55930747e-01,\n",
       "       -4.68050954e-01, -7.93138121e-01,  6.07887663e-01,  9.40164030e-01,\n",
       "       -9.53840076e-01,  9.84303917e-01, -1.10185947e+00, -4.16236093e-02,\n",
       "       -7.62178512e-01, -8.49431342e-01, -8.89552263e-01, -1.25794050e-01,\n",
       "        5.73411381e-01, -1.75577894e-01,  4.45932924e-02, -4.56804714e-02,\n",
       "        1.94720807e-01,  5.16933078e-02, -1.51414825e+00, -1.35649963e+00,\n",
       "       -1.62254782e-01,  2.33086162e+00,  5.23217593e-01,  1.39140487e-01,\n",
       "        5.11961960e-01, -5.99857488e-01, -5.47369010e-01,  7.56613442e-01,\n",
       "       -2.90647142e-01, -9.99202200e-01,  8.90388822e-02,  1.39827701e+00,\n",
       "       -1.93634033e+00,  8.30472043e-01, -2.96166573e-01, -4.85459790e-01,\n",
       "       -6.65063812e-01, -1.30682977e-01, -1.04508291e+00,  2.50741323e-01,\n",
       "        1.19503426e+00,  5.26178806e-01,  1.28285868e+00,  5.28264446e-01,\n",
       "        1.01262685e+00, -3.45661333e-01,  2.10510543e-01,  5.66417471e-01,\n",
       "        2.03488144e+00,  2.90231328e-01, -1.40411592e-01, -5.02394493e-01,\n",
       "       -3.06706680e-01,  1.26115792e+00, -9.64088996e-01, -7.78387177e-01,\n",
       "        1.38598488e-01,  3.09410365e-01, -6.96605883e-04, -5.59831897e-01,\n",
       "       -1.64731042e+00,  6.19980977e-01,  6.76138780e-01,  9.63301948e-01,\n",
       "        5.59777101e-02, -6.54667534e-01,  4.73904014e-01,  1.16897745e-02,\n",
       "       -4.44650257e-01, -1.68311083e+00,  2.14250114e+00, -1.97872811e-01,\n",
       "       -2.89202247e-01,  5.26082853e-01,  1.27889948e+00, -2.16622480e-01,\n",
       "       -2.95967788e-01,  1.72959272e+00,  7.64893655e-01, -4.32663256e-01,\n",
       "        1.35665543e+00,  1.34400615e+00, -5.45026092e-01, -4.71169495e-01,\n",
       "        3.99085912e-01,  5.95208092e-03, -4.25913757e-02, -2.02659625e-01,\n",
       "       -8.16857692e-01, -3.33321529e-02, -3.95984358e-02, -2.53121690e-01,\n",
       "        4.05339459e-01,  9.02069078e-01, -1.85639219e+00,  2.21173545e-01,\n",
       "        3.06700054e-01,  3.82083045e-01,  1.28407741e+00,  9.02395956e-01,\n",
       "        9.56972335e-01,  8.07630833e-01,  3.14373844e-01,  1.16465332e+00,\n",
       "       -1.57448179e-01, -1.49931779e-01, -7.98723810e-01,  9.45371661e-01,\n",
       "       -5.92764440e-01,  5.31539692e-01,  6.14950636e-01, -6.11873003e-01,\n",
       "        2.63695056e-01, -1.55334773e+00,  6.02512701e-01, -1.45914710e+00,\n",
       "       -1.15930966e-01,  1.87095317e+00, -1.55704536e+00,  5.25790418e-02,\n",
       "        1.87897869e-01,  7.16357307e-01, -1.07986918e+00, -2.30369465e+00,\n",
       "        2.81654463e-01,  1.65591656e+00, -1.16490841e+00, -4.09942697e-01,\n",
       "       -3.72502472e-01, -1.00444875e+00,  1.63050756e-01, -6.49374539e-01,\n",
       "       -3.08304108e-02,  2.66255969e-01, -1.55083384e-01, -4.96646838e-01,\n",
       "        1.67218831e+00,  1.78005245e+00, -7.26586045e-01, -1.01500557e-01,\n",
       "       -3.96469940e-01, -1.06185302e+00, -1.76082195e-01,  1.46997775e+00,\n",
       "        2.90094592e-01, -1.66352537e-01,  6.63425005e-02, -6.02344625e-01,\n",
       "       -2.62779328e-03, -6.34905411e-01, -2.19070129e-01, -1.19238082e-01,\n",
       "       -1.53196681e+00, -9.50786055e-01, -7.86186707e-01, -1.53790450e+00,\n",
       "       -4.85950553e-01,  1.63584582e+00, -1.89443966e+00,  4.00683653e-01,\n",
       "       -1.69192116e+00,  2.59572898e-01,  1.67943999e+00, -3.03795935e-01,\n",
       "       -5.16919720e-01, -4.80474707e-01, -1.49082328e+00, -1.09744035e+00,\n",
       "       -9.25491842e-01, -7.53259824e-01, -1.93044572e+00,  3.09979079e-01,\n",
       "       -9.37615023e-01,  5.02951810e-01, -7.70589398e-02, -7.96523009e-01,\n",
       "       -1.16030674e+00,  4.13891070e-01, -2.75213427e-01, -6.40645690e-01,\n",
       "        4.93925561e-01,  3.69177760e-01, -1.22716623e+00,  1.04266038e+00,\n",
       "        8.82210104e-01,  5.47417001e-01, -2.38882689e-01, -1.00316936e+00,\n",
       "       -8.69505773e-01,  1.87980637e+00,  8.38646810e-01,  1.72868397e+00,\n",
       "        1.71749090e+00, -2.00643616e-01, -1.04677085e+00,  1.98490640e-02,\n",
       "       -5.18400269e-02,  1.64537827e+00, -2.04844260e-02, -5.41062532e-01,\n",
       "       -2.22001006e+00, -1.05161754e+00, -9.16452278e-01, -4.54951267e-01,\n",
       "       -9.50585934e-02,  1.38251254e+00, -1.94347929e+00, -6.19292709e-01,\n",
       "       -8.79447011e-01,  4.45340548e-01,  9.69309514e-01, -1.63194486e+00,\n",
       "       -1.82887718e+00,  1.16866016e+00,  1.32456334e-01,  2.77033991e-01,\n",
       "       -2.87028296e-01, -2.31841766e+00, -1.02455266e+00,  1.45779317e-01,\n",
       "       -9.62219751e-01, -1.31110490e+00, -5.21585461e-01,  5.37437130e-01,\n",
       "       -8.70450342e-01,  4.73644154e-01,  4.40156751e-01,  1.16216597e-01,\n",
       "       -7.19768970e-01, -1.56290932e-01,  1.14472557e-01, -2.20507429e+00,\n",
       "        1.54353072e+00,  1.57534970e+00,  3.28523908e-01,  6.05089928e-01,\n",
       "       -1.24328427e+00,  5.73966081e-01,  2.71178937e-02, -3.16397902e-01,\n",
       "       -1.74644720e+00, -2.81970278e-01, -2.68639564e-01, -2.81048783e-01,\n",
       "        9.28959446e-01,  2.57070152e-01,  1.86848089e+00,  8.96964846e-01,\n",
       "        6.46154344e-01,  4.88909005e-01, -1.42226285e+00,  5.52563669e-01,\n",
       "        1.14247391e+00, -4.52400979e-01,  5.25040256e-01,  5.93609491e-01,\n",
       "       -5.43673055e-01,  1.33275050e-01, -1.23085406e+00,  6.93997750e-01,\n",
       "       -1.39833348e+00, -1.24197844e+00, -4.57358823e-01, -1.05085065e-01,\n",
       "        5.49818821e-01,  7.06314286e-01, -1.75507103e+00, -2.07875580e+00,\n",
       "       -1.25434943e-01,  1.58369203e+00,  1.68973274e-01, -1.94170403e-01,\n",
       "        5.92615527e-01,  4.74749537e-01,  6.55359954e-01,  7.77912859e-02,\n",
       "       -1.00072013e+00, -2.25303322e+00,  2.28106650e+00, -1.07790009e+00,\n",
       "        6.62308001e-01, -6.02916204e-01,  3.98191706e-01, -4.45377198e-01,\n",
       "        1.57506585e+00, -9.63388029e-01,  7.14503765e-01, -6.39127975e-01,\n",
       "        1.14083261e-01,  9.85908131e-03,  6.85585495e-01, -6.89868668e-01,\n",
       "       -1.34383835e+00, -8.74803821e-01,  1.96450651e+00,  9.04652220e-01,\n",
       "       -1.23763555e+00, -8.13127887e-01,  4.60320636e-01, -7.86644637e-01,\n",
       "        4.25424478e-01,  1.11278836e+00,  8.58040882e-01,  5.22101249e-01,\n",
       "        6.14250189e-01, -1.19357193e+00,  5.58854237e-01,  7.21182584e-01,\n",
       "        3.90567221e-01, -4.05505146e-01, -1.01165911e+00,  2.42818360e-02,\n",
       "        6.41330613e-01, -6.91814576e-02,  4.97253353e-02,  1.14672108e+00,\n",
       "       -2.28929496e+00, -1.41659146e+00,  4.04559093e-01,  2.88752169e-01,\n",
       "        7.64776071e-01, -1.25215758e+00, -1.63845569e-01,  6.99086577e-01,\n",
       "        4.01594070e-01,  2.59640701e-02, -1.14988711e-01,  1.38908583e-01,\n",
       "       -1.05508085e+00, -1.24858272e-01, -6.54492622e-01,  2.08106930e+00,\n",
       "        1.84119684e+00, -1.32742741e-01,  8.23555957e-01,  3.81668737e-01,\n",
       "       -5.67692256e-01, -8.62406538e-01, -1.02084241e+00,  8.33279657e-01,\n",
       "       -1.91962166e+00, -2.98110872e-01, -3.32878704e-03,  8.55326010e-01,\n",
       "       -7.74378456e-01, -1.49406166e+00,  6.46642039e-01, -1.42439402e+00,\n",
       "        6.12770519e-01, -1.11057043e+00,  1.39264558e+00, -1.62277292e-01,\n",
       "        3.60948198e-01, -8.36296251e-01, -4.63376744e-01, -1.92164646e-01,\n",
       "        4.10148489e-01, -2.13990560e-01,  8.21841173e-01, -2.26188720e+00,\n",
       "        1.28264577e+00,  3.30571528e-01, -4.90630477e-01, -5.28615245e-01,\n",
       "       -9.77531096e-02, -1.16769826e+00, -5.80820029e-01, -2.90958643e-01,\n",
       "       -1.51445686e-01,  2.36631628e-01,  6.85424020e-01,  3.19936190e-01,\n",
       "       -3.11001712e-01, -1.53296004e+00,  1.96639697e+00,  6.89279137e-02,\n",
       "       -2.13633325e-01, -3.62874095e-01,  5.32461491e-01, -1.69939649e-01,\n",
       "        3.18399730e-01, -1.23972742e+00,  3.89195675e-01, -7.77367485e-01,\n",
       "       -6.53118954e-01,  4.30684757e-01,  9.76330390e-01, -3.86011177e-01,\n",
       "       -2.15106200e-01,  1.20823928e-01, -2.22177743e-01,  8.03221501e-01,\n",
       "        6.77057469e-01, -2.62592007e-01, -1.69018242e+00,  4.06532259e-01,\n",
       "        1.60074624e+00, -1.09573322e+00,  5.40458499e-01, -1.05799401e+00,\n",
       "       -6.04108058e-01,  6.33850155e-01,  5.37246515e-01,  1.61673514e+00,\n",
       "        1.11805293e+00, -1.28744419e+00,  6.21524877e-01, -8.92446003e-01,\n",
       "        4.92240392e-01,  5.22548078e-01,  6.18152663e-01,  7.34575602e-01,\n",
       "        5.56931576e-02, -2.84367732e-01, -3.03779104e-01, -4.74700519e-01,\n",
       "       -5.27789904e-01,  2.38951295e+00,  4.07063987e-01,  1.34102260e+00,\n",
       "        4.29812233e-01,  3.84314690e-01, -1.37563765e+00,  9.67937673e-02,\n",
       "       -7.41157016e-02, -3.35350022e-01, -6.01710863e-01, -1.27373140e+00,\n",
       "       -1.31945434e+00, -2.00002474e+00,  1.19600650e+00, -1.47643776e-01,\n",
       "        1.93667776e+00,  6.02946374e-01, -3.35288047e-02, -8.77917212e-01,\n",
       "        5.72309779e-01, -1.07475289e+00,  2.49898615e+00, -6.30863752e-01,\n",
       "       -4.56147929e-01, -7.12488487e-01,  3.45700786e-01,  2.12200156e+00,\n",
       "       -7.99371668e-01,  1.34777209e+00,  3.81101998e-01,  1.40836711e+00,\n",
       "       -2.29178607e+00, -2.63528108e-01,  3.05618784e-02, -1.10900129e+00,\n",
       "        2.35609820e-01, -1.56982261e-01,  9.71729837e-02, -2.13885745e-01,\n",
       "       -1.15549174e+00,  5.24885084e-01,  6.19459598e-01, -1.50503331e+00,\n",
       "        8.65989540e-01,  1.32864459e+00,  5.30523696e-01, -1.23936442e+00,\n",
       "        2.65860113e+00, -1.18148754e+00,  6.10006634e-01,  9.43498285e-01,\n",
       "        4.93571128e-01, -1.44379204e-01, -1.04051840e-01, -7.15750599e-01,\n",
       "        1.04012267e+00,  1.37104270e+00, -3.29949095e-01,  4.13557713e-02,\n",
       "        8.16433211e-01, -1.68750150e+00,  1.39283344e-01, -8.53771968e-03,\n",
       "        8.03775859e-01,  9.64912593e-01,  6.03139730e-01, -6.74555152e-01,\n",
       "       -3.66373782e-01,  8.07275932e-01, -2.90100748e-01, -5.34034930e-01,\n",
       "        3.17720752e-01, -2.93995579e-01, -1.51949411e+00,  6.20094165e-01,\n",
       "       -2.03666330e-01, -1.44476052e+00,  1.60641084e-01, -8.35703531e-01,\n",
       "        1.97283060e+00,  5.27712794e-01,  2.44047369e-01,  1.27174460e+00,\n",
       "       -4.11079229e-01,  7.17884099e-01, -9.73347488e-01, -1.39100921e-01,\n",
       "        6.59865201e-01,  1.10326548e+00,  1.37036139e+00,  2.38052157e+00,\n",
       "        8.81819024e-01, -4.38914813e-01, -7.05096997e-01, -7.59123354e-01,\n",
       "        1.32487656e-01, -4.85442198e-01,  7.82712025e-01, -2.90690726e-01,\n",
       "        1.09500296e+00, -8.53764630e-02,  5.83828321e-02,  1.40388849e+00,\n",
       "       -6.24172055e-01, -1.93348305e+00, -1.30045649e+00,  7.12914295e-01,\n",
       "        3.09074418e-01,  1.18700385e+00, -4.97699199e-01,  2.79186077e-01,\n",
       "       -3.46048539e-01,  3.37606133e-01, -1.15242957e+00,  1.81688560e-01,\n",
       "        6.79276899e-01,  1.77033297e+00,  4.54906740e-01,  1.07201496e+00,\n",
       "       -6.88512607e-01,  5.71055936e-01,  1.56725608e+00, -6.33718040e-01,\n",
       "        1.85594419e-01, -1.27293892e+00,  1.98092100e+00, -1.62139139e-01,\n",
       "       -5.75061678e-01, -1.23382724e+00, -1.04125363e+00,  9.91081687e-01,\n",
       "       -8.33789111e-02,  2.04984076e+00,  1.13899941e+00, -4.36317613e-01,\n",
       "       -1.00725856e+00, -8.56995341e-01,  1.08710494e+00, -1.54691774e+00,\n",
       "        4.93199285e-01, -8.43474999e-01, -7.97202937e-01, -1.63039967e+00,\n",
       "        6.98723923e-01, -6.66253274e-02, -1.14836674e+00,  4.47144940e-01,\n",
       "        2.32689328e+00, -8.01588681e-01, -8.14539485e-01,  6.32687124e-01,\n",
       "       -1.24986083e+00, -5.08243520e-01, -9.53003881e-02,  8.91993407e-01,\n",
       "        1.84880530e+00, -1.02194638e-01,  1.16010952e+00, -2.65908120e-02,\n",
       "        2.48244083e+00,  6.87078051e-01, -2.15317838e+00, -4.02625111e-01,\n",
       "        2.66164870e+00,  1.68655304e+00,  2.95526436e-01, -3.86421567e-01,\n",
       "       -7.00046144e-01,  1.49675063e+00, -6.91045036e-01, -3.76496046e-01,\n",
       "        8.86595275e-01, -8.45485019e-01, -8.19537293e-01,  1.02692676e-01,\n",
       "       -3.39336778e-01,  4.72804177e-01,  5.80977731e-01,  1.70129521e+00,\n",
       "       -4.26961306e-01, -1.36214322e+00,  1.04344457e+00, -3.64018340e-01,\n",
       "       -5.69854177e-01,  5.88457811e-01, -1.16293298e+00, -3.47641062e-01,\n",
       "        6.24973950e-01, -2.35909754e-01,  1.46438163e+00,  2.43804741e-01,\n",
       "       -7.63939842e-01, -2.18779200e-02,  1.63093115e+00,  2.60835969e-01,\n",
       "       -9.93477988e-01,  2.25648774e-01, -5.46382936e-01, -1.59937079e-01,\n",
       "       -5.40051699e-01,  1.31468511e+00,  7.35967303e-01, -7.83001840e-01,\n",
       "        4.46659024e-01, -8.68051751e-01, -7.53957163e-01, -1.19824878e+00,\n",
       "       -5.25784513e-01,  6.92643679e-01,  1.95171521e+00,  7.99456856e-01,\n",
       "       -5.70191802e-01, -8.30448199e-01, -3.28202627e-02,  5.51146010e-02,\n",
       "        2.85164699e-01,  7.66490825e-01,  4.76732548e-01, -4.74623290e-01,\n",
       "        1.49965158e+00,  6.83568431e-01,  1.94872855e+00,  2.51157770e-01,\n",
       "       -2.53024401e-02,  4.45433273e-01, -8.21711408e-01, -1.75420720e+00,\n",
       "        1.04063647e+00, -3.05419763e-01,  6.80792843e-01,  9.25817624e-01,\n",
       "        4.34950025e-01,  3.04557857e-01, -1.38405983e+00,  1.10895139e+00,\n",
       "        5.51216694e-01,  2.42687236e-01, -1.90339803e+00, -6.79787693e-01,\n",
       "        3.32311843e-01, -7.79571098e-01,  2.23024344e-01,  3.02362427e-01,\n",
       "        1.10543921e+00, -1.36455175e+00, -6.57353804e-01, -1.79855254e+00,\n",
       "       -1.03324793e+00, -1.70855412e-01, -3.95384675e-01, -1.18221444e+00,\n",
       "       -3.23404469e-01,  4.63383707e-01, -4.00439311e-01,  5.51926809e-01,\n",
       "        1.96368501e+00, -7.10675011e-01, -2.55712380e-01,  2.98094536e-02,\n",
       "        1.19769260e+00,  1.12317408e+00,  4.41374018e-01,  5.45750862e-01,\n",
       "        1.67539620e+00, -7.06115609e-01,  1.22982643e+00,  5.80984357e-02,\n",
       "        9.45022811e-02,  2.54802208e-01,  1.51496844e-01,  1.12050013e+00,\n",
       "        1.04785219e+00,  1.92929597e-01, -1.16122178e+00, -2.96771535e-01,\n",
       "       -9.43239328e-02,  6.59636402e-01,  4.79089517e-01,  3.65402962e-01,\n",
       "       -5.82352367e-01,  8.83878123e-02,  2.59849937e+00, -1.84049517e+00,\n",
       "       -2.72712133e-01, -9.66232960e-01,  4.40679240e-01, -1.06957810e+00,\n",
       "        2.07599599e+00,  7.46714917e-02,  7.38007954e-01, -1.56440893e+00,\n",
       "        5.74127109e-01, -3.43385124e-01, -4.38323339e-01,  1.90595821e+00,\n",
       "       -1.45382427e+00,  2.09950651e-01, -6.57880554e-01,  5.58819207e-01,\n",
       "        4.46664233e-01,  1.85058182e-01, -1.93682263e+00, -8.72184944e-01,\n",
       "       -8.29789894e-01,  2.16040795e-01,  5.78326637e-01,  7.32263293e-02,\n",
       "        4.94581857e-01,  9.14930961e-01, -1.35124633e+00,  5.15229857e-01,\n",
       "        6.31830499e-01, -1.57795857e+00,  9.85357586e-01,  1.17359687e+00,\n",
       "       -6.73790229e-01, -1.46176630e-01, -2.34053169e-01,  3.79325881e-01,\n",
       "        6.11002995e-01,  7.49484383e-01, -1.01861645e+00,  2.09988280e+00,\n",
       "       -1.83278402e+00, -4.17416595e-02, -5.86809185e-01, -1.38098208e+00,\n",
       "       -1.01523284e-01, -6.29916679e-02,  1.13711998e+00,  1.00972208e+00,\n",
       "        7.72636684e-01,  1.05543975e+00,  4.68387567e-01, -2.55392590e+00,\n",
       "       -1.48015316e-01,  1.93298531e-02, -1.17761237e+00,  1.17911931e+00,\n",
       "       -1.58979418e+00, -7.28409032e-01,  3.73215956e+00, -8.78064140e-01,\n",
       "       -1.15621023e+00, -7.89748202e-01,  9.30859641e-01,  6.03358003e-02,\n",
       "        1.05596260e-01,  4.90053547e-01, -1.68514590e+00,  5.75367281e-01,\n",
       "        5.54110103e-01,  1.51559096e+00,  6.71850177e-01,  1.42266439e+00,\n",
       "        1.71216286e+00, -2.31880036e-01, -1.41742741e+00,  1.11537226e+00,\n",
       "        1.54121541e+00,  8.48358384e-01,  1.75742783e+00,  4.70044664e-01,\n",
       "        3.53434974e-02,  1.35369217e+00, -2.82342418e-01,  2.24430728e-01,\n",
       "       -8.04099799e-01,  2.88312684e-01,  1.39096607e+00, -3.07396418e-01,\n",
       "        1.46210613e-01,  7.52596882e-01,  2.79031785e-01,  1.44252662e-01,\n",
       "       -1.27427048e+00, -1.74268631e+00, -8.83900512e-01, -1.49118110e+00,\n",
       "       -1.11408841e-01,  9.73722202e-01, -1.54238096e+00,  1.02726686e+00,\n",
       "        1.68490617e+00,  2.83284649e-01,  8.95733588e-01, -8.80607892e-02,\n",
       "        5.76274778e-01,  7.09289685e-01,  2.10138832e+00, -8.39548895e-01,\n",
       "        4.47925764e-01,  7.82789671e-01,  3.52779361e-01,  2.74582875e-01,\n",
       "        6.78744578e-01, -8.88941509e-01, -1.69373405e+00, -1.02643237e-01,\n",
       "       -1.24788130e+00, -5.63453299e-01, -2.39225712e-01, -1.91849573e+00,\n",
       "        1.60432724e-01,  3.20396517e-01, -5.63551623e-01,  3.46867455e-01,\n",
       "        1.40574831e+00,  5.01602935e-01, -1.56878976e-01, -9.95845494e-01,\n",
       "       -6.05551219e-01,  1.17966615e+00, -5.85011062e-01, -6.64227028e-01,\n",
       "        9.04135191e-01, -1.64340158e+00, -3.06618765e-01, -1.30523762e-01,\n",
       "       -1.54741426e-01,  1.16702105e+00,  6.49172036e-01,  8.00366976e-01,\n",
       "       -7.48470590e-01,  1.11482601e+00,  1.08306414e+00, -1.16789217e+00,\n",
       "        1.13238015e+00,  1.72985631e+00,  7.97631864e-01,  1.25437369e-01,\n",
       "       -1.44189045e+00, -2.22109058e+00, -9.33925896e-01, -6.54134919e-01,\n",
       "       -5.69036864e-01, -1.27717953e+00,  1.42331839e+00,  4.22870528e-01,\n",
       "        5.87831883e-02, -6.95520588e-01,  1.48829196e+00,  1.07660946e+00,\n",
       "       -1.31936873e+00, -5.29635006e-01,  1.12773624e+00, -1.01856381e+00,\n",
       "        1.02042079e+00, -1.39933753e-02, -8.72125400e-02, -8.62026341e-02,\n",
       "       -4.31797320e-01, -1.09982028e+00,  3.19372219e+00,  2.21241539e-02,\n",
       "       -4.55695165e-01,  1.78851654e-01,  1.35565311e+00,  1.03824758e+00,\n",
       "        7.16064629e-01,  8.78746301e-02,  4.19351076e-01, -5.04996834e-01,\n",
       "       -1.55467855e-01,  7.99038919e-02, -7.44803534e-01,  5.03507396e-01,\n",
       "       -4.14093654e-01, -8.44840160e-01,  5.65651751e-02, -1.11307544e+00,\n",
       "        1.44577377e+00, -1.72575431e-01,  1.12230411e+00,  4.73702497e-01,\n",
       "       -2.39082679e-01,  1.97434338e+00, -1.03333229e+00,  4.32374658e-01,\n",
       "        1.94508809e-01,  4.57152244e-02,  6.94811065e-01, -7.20640755e-01,\n",
       "       -5.91486968e-01, -3.15719764e-01, -3.53528728e-01,  2.15725983e+00,\n",
       "       -8.73497941e-01,  1.30296753e+00, -8.65605322e-01, -4.86847666e-01,\n",
       "        8.32840062e-01,  7.55413548e-01, -5.87301672e-02,  1.26934276e+00,\n",
       "       -2.25868612e+00,  4.59066691e-01, -8.57723152e-01,  3.81604889e-01,\n",
       "        3.15398169e-01, -5.11176787e-01,  1.03893550e+00, -1.01711930e+00,\n",
       "        4.14532552e-01, -3.42927522e-01, -2.26409926e-01,  3.64112300e-01,\n",
       "        6.54031895e-01, -6.04344865e-01,  1.60793709e+00, -4.50137914e-01,\n",
       "       -1.28203949e+00, -5.90195875e-01,  3.31635701e-01, -6.58914072e-01,\n",
       "       -8.45190461e-01, -2.66840409e-01,  1.19417918e+00, -2.89926553e-01,\n",
       "       -5.75632319e-01, -8.53084903e-01, -1.68700181e+00,  1.52549685e+00,\n",
       "        1.16228208e+00, -1.22958959e+00, -2.66759860e-01,  5.91673620e-01,\n",
       "        1.92457264e-01,  2.13278477e-02,  7.31802317e-01, -5.62948404e-01,\n",
       "       -1.37614707e+00,  4.35476910e-01,  2.40645608e+00, -3.28110812e-01,\n",
       "       -2.26878622e+00, -4.59864754e-01, -1.13394669e+00, -1.35800218e+00,\n",
       "        8.47902079e-01,  4.61339442e-01, -7.57122999e-01, -1.36608182e+00,\n",
       "        1.23395460e-02,  8.24490228e-01, -5.91582614e-01, -1.90780824e-01,\n",
       "        7.64351580e-02,  1.85996428e-01,  3.67446604e-01,  2.42247215e-02,\n",
       "       -1.42232978e+00, -5.24706321e-01, -4.19037191e-01, -1.28558992e+00,\n",
       "       -5.57879919e-01,  1.30158875e+00,  4.68769427e-01,  3.23245493e-01])"
      ]
     },
     "execution_count": 9,
     "metadata": {},
     "output_type": "execute_result"
    }
   ],
   "source": [
    "import numpy as np\n",
    "np.random.randn(1000)"
   ]
  },
  {
   "cell_type": "code",
   "execution_count": 4,
   "metadata": {},
   "outputs": [
    {
     "data": {
      "image/png": "[encoded data removed]",
      "text/plain": [
       "<matplotlib.figure.Figure at 0x21dcc145ef0>"
      ]
     },
     "metadata": {},
     "output_type": "display_data"
    }
   ],
   "source": [
    "%matplotlib inline\n",
    "import matplotlib.pyplot as plt\n",
    "x = np.random.randn(1000)\n",
    "\n",
    "plt.hist (x)\n",
    "\n",
    "plt.show()"
   ]
  },
  {
   "cell_type": "markdown",
   "metadata": {},
   "source": [
    "### 3. randint"
   ]
  },
  {
   "cell_type": "markdown",
   "metadata": {},
   "source": [
    "Generates random values of integers for a user defined range, for a user defined number of samples. \n",
    "The **randint** function uses the discrete uniform distribution as the probability distribution with all possible outcomes of the specified range equally likely to occur; Or a known, finite number of outcomes equally likely to happen. \n",
    "This function will not return any float values only integers. See the image below of a discrete uniform distribution, the values in the distribution are points, this is what makes the distribution \"discrete\". If the high paramaneter is excluded then the integer argument parameter is one above the largest integer to be drawn form the distribution e.g. below, 10 is the argument meaning the range is between 0 and 9 inclusive.\n"
   ]
  },
  {
   "cell_type": "code",
   "execution_count": 13,
   "metadata": {},
   "outputs": [
    {
     "data": {
      "text/plain": [
       "array([7, 1, 8, 3, 2, 1, 6, 2, 4, 8, 7, 4, 3, 2, 8, 7, 4, 6, 7, 4, 5, 4,\n",
       "       2, 9, 5, 1, 3, 3, 5, 6, 9, 2, 8, 9, 9, 4, 2, 3, 6, 3, 5, 4, 8, 4,\n",
       "       8, 2, 1, 9, 8, 8, 6, 6, 8, 4, 5, 1, 9, 7, 8, 2, 8, 8, 9, 5, 4, 1,\n",
       "       6, 6, 6, 1, 8, 0, 3, 5, 8, 4, 4, 2, 2, 4, 1, 2, 4, 1, 0, 5, 3, 4,\n",
       "       9, 7, 8, 4, 8, 6, 1, 5, 1, 7, 0, 4])"
      ]
     },
     "execution_count": 13,
     "metadata": {},
     "output_type": "execute_result"
    }
   ],
   "source": [
    "# generates an array between 0 and 9 with a size of 100\n",
    "import numpy as np\n",
    "np.random.randint(10, size=100)           "
   ]
  },
  {
   "cell_type": "code",
   "execution_count": 15,
   "metadata": {},
   "outputs": [
    {
     "data": {
      "image/png": "[encoded data removed]",
      "text/plain": [
       "<matplotlib.figure.Figure at 0x21dd0f277f0>"
      ]
     },
     "metadata": {},
     "output_type": "display_data"
    }
   ],
   "source": [
    "%matplotlib inline\n",
    "import matplotlib.pyplot as plt\n",
    "x = np.random.randint(10, size=100)\n",
    "\n",
    "plt.hist (x)\n",
    "\n",
    "plt.show()"
   ]
  },
  {
   "cell_type": "markdown",
   "metadata": {},
   "source": [
    "## Permutations Functions:\n",
    "Shuffle and permutation both generate random numbers; the shuffle function changes the order of a given set of inputs; and the permutation function creating a random sequence of numbers given an input length."
   ]
  },
  {
   "cell_type": "markdown",
   "metadata": {},
   "source": [
    "### 1. Shuffle"
   ]
  },
  {
   "cell_type": "markdown",
   "metadata": {},
   "source": [
    "Won't change the contents of an array, it only shuffles its contents so only the order of array is changed."
   ]
  },
  {
   "cell_type": "code",
   "execution_count": 25,
   "metadata": {},
   "outputs": [
    {
     "data": {
      "text/plain": [
       "array([[0.59395813, 0.30063652, 0.02980305],\n",
       "       [0.5179387 , 0.90363242, 0.38711202],\n",
       "       [0.68272735, 0.81012385, 0.89690844],\n",
       "       [0.75410446, 0.38574962, 0.13950574],\n",
       "       [0.3176527 , 0.56475811, 0.44019866]])"
      ]
     },
     "execution_count": 25,
     "metadata": {},
     "output_type": "execute_result"
    }
   ],
   "source": [
    "# Shuffle function, only shuffles the array along the first axis of a multi-dimensional array. \n",
    "# The order of sub-arrays is changed but their contents remains the same.\n",
    "\n",
    "shf = np.random.rand(5, 3)\n",
    "shf"
   ]
  },
  {
   "cell_type": "code",
   "execution_count": 26,
   "metadata": {},
   "outputs": [
    {
     "data": {
      "text/plain": [
       "array([[0.59395813, 0.30063652, 0.02980305],\n",
       "       [0.68272735, 0.81012385, 0.89690844],\n",
       "       [0.3176527 , 0.56475811, 0.44019866],\n",
       "       [0.75410446, 0.38574962, 0.13950574],\n",
       "       [0.5179387 , 0.90363242, 0.38711202]])"
      ]
     },
     "execution_count": 26,
     "metadata": {},
     "output_type": "execute_result"
    }
   ],
   "source": [
    "np.random.shuffle (shf)\n",
    "shf"
   ]
  },
  {
   "cell_type": "markdown",
   "metadata": {},
   "source": [
    "### 2. Permutation"
   ]
  },
  {
   "cell_type": "markdown",
   "metadata": {},
   "source": [
    "Randomly permutes a sequence, or returns a permuted range."
   ]
  },
  {
   "cell_type": "code",
   "execution_count": 27,
   "metadata": {},
   "outputs": [
    {
     "data": {
      "text/plain": [
       "array([18,  9,  7, 13,  0, 22, 29, 20,  4, 17, 27, 10,  8,  6,  1, 23, 12,\n",
       "       11, 24, 25,  3, 16, 21, 26, 28, 19, 14, 15,  2,  5])"
      ]
     },
     "execution_count": 27,
     "metadata": {},
     "output_type": "execute_result"
    }
   ],
   "source": [
    "# creates an array from 0 up to 29\n",
    "np.random.permutation(30)"
   ]
  },
  {
   "cell_type": "code",
   "execution_count": 28,
   "metadata": {},
   "outputs": [
    {
     "data": {
      "text/plain": [
       "array([ 1, 12,  9, 15,  4])"
      ]
     },
     "execution_count": 28,
     "metadata": {},
     "output_type": "execute_result"
    }
   ],
   "source": [
    "# creates an array from a given array, copies the original array an drandomly shuffles the elements\n",
    "np.random.permutation([1, 4, 9, 12, 15])"
   ]
  },
  {
   "cell_type": "code",
   "execution_count": 29,
   "metadata": {},
   "outputs": [
    {
     "data": {
      "text/plain": [
       "array([ 1, 12, 15,  9,  4])"
      ]
     },
     "execution_count": 29,
     "metadata": {},
     "output_type": "execute_result"
    }
   ],
   "source": [
    "# creates an array from the same given array, and copies the original array and randomly shuffles the elements\n",
    "np.random.permutation([1, 4, 9, 12, 15])"
   ]
  },
  {
   "cell_type": "code",
   "execution_count": 31,
   "metadata": {},
   "outputs": [
    {
     "data": {
      "text/plain": [
       "array([[0, 1, 2],\n",
       "       [3, 4, 5],\n",
       "       [6, 7, 8]])"
      ]
     },
     "execution_count": 31,
     "metadata": {},
     "output_type": "execute_result"
    }
   ],
   "source": [
    "# If the array is a multi-dimensional array, it is only shuffled along its first index\n",
    "arr = np.arange(9).reshape((3, 3))\n",
    "np.random.permutation(arr)"
   ]
  },
  {
   "cell_type": "markdown",
   "metadata": {},
   "source": [
    "## Distributions Section:"
   ]
  },
  {
   "cell_type": "markdown",
   "metadata": {},
   "source": [
    "## 1. Uniform Distribution "
   ]
  },
  {
   "cell_type": "markdown",
   "metadata": {},
   "source": [
    "Sometimes also known as a rectangular distribution, is a distribution that has constant probability with the first number being the lower boundary, second number being upper boundary and third being the size of the array. Very similar to rand ( which only works between 0 and 1), uniform gives random numbers in any interval again with lower boundary included and upper boundary excluded and with these boundaries being interchangeable i.e. having a higher number in the \"lower\" position will nto break the funrction it just switches them around."
   ]
  },
  {
   "cell_type": "code",
   "execution_count": 40,
   "metadata": {},
   "outputs": [
    {
     "data": {
      "text/plain": [
       "array([ 8.36033322, -0.80691031,  5.28253421,  8.64104263,  8.18312182,\n",
       "        4.35638815,  3.53807153, -0.18099787,  3.39354323,  3.70159345,\n",
       "       -0.60330063,  8.37567799, -0.45461286,  3.59255457,  1.776873  ,\n",
       "        6.72019964,  5.91075681, -0.81435835,  6.06159409,  4.3301264 ])"
      ]
     },
     "execution_count": 40,
     "metadata": {},
     "output_type": "execute_result"
    }
   ],
   "source": [
    "x = np.random.uniform(-1, 9, 20)\n",
    "x"
   ]
  },
  {
   "cell_type": "markdown",
   "metadata": {},
   "source": [
    "Again we can generate a plot using matpoltlib indicating how the **uniform** function generates the random numbers. This is a histogram for a continuous variable (20 random values from -1 up to 9). The **uniform** function has generated 20 numbers between -1 and up to 9. The Hist function has again chopped this into 10 intervals with ll of the numbers between -1 and up to 9 have the same chance or probability of appearing in the randomly generated list."
   ]
  },
  {
   "cell_type": "code",
   "execution_count": 51,
   "metadata": {},
   "outputs": [
    {
     "data": {
      "image/png": "[encoded data removed]",
      "text/plain": [
       "<matplotlib.figure.Figure at 0x27eda36b978>"
      ]
     },
     "metadata": {},
     "output_type": "display_data"
    }
   ],
   "source": [
    "%matplotlib inline\n",
    "import matplotlib.pyplot as plt\n",
    "x = np.random.uniform(-1, 9, 20)\n",
    "\n",
    "plt.hist (x)\n",
    "\n",
    "plt.show()"
   ]
  },
  {
   "cell_type": "markdown",
   "metadata": {},
   "source": [
    "\n",
    "\n"
   ]
  },
  {
   "cell_type": "markdown",
   "metadata": {},
   "source": [
    "## 2. Normal distribution\n",
    "The probability density function of the normal distribution, first derived by De Moivre and 200 years later by both Gauss and Laplace independently [2], is often called the bell curve because of its characteristic shape (see the example below). The normal distributions occurs often in nature."
   ]
  },
  {
   "cell_type": "code",
   "execution_count": 66,
   "metadata": {
    "scrolled": true
   },
   "outputs": [
    {
     "data": {
      "text/plain": [
       "array([ 0.11736261,  0.05313681, -0.04575828, ...,  0.083016  ,\n",
       "       -0.04424481,  0.25593952])"
      ]
     },
     "execution_count": 66,
     "metadata": {},
     "output_type": "execute_result"
    }
   ],
   "source": [
    "x = np.random.normal(0, 0.1, 2000)\n",
    "x\n"
   ]
  },
  {
   "cell_type": "markdown",
   "metadata": {},
   "source": [
    "A way of generating numbers randomly, with values centered around the mean of the distribution (0 in this case), huge proportion 90% of the values are within 3 times the standard deviation number given (or the 'spread' 0.1 in this case); with the third number again being the size of the array.\n",
    "Again using our Histogram plot below we can see the bell shaped curve with the distributoon centered around the mean."
   ]
  },
  {
   "cell_type": "code",
   "execution_count": 69,
   "metadata": {},
   "outputs": [
    {
     "data": {
      "image/png": "[encoded data removed]",
      "text/plain": [
       "<matplotlib.figure.Figure at 0x27eda0c7a20>"
      ]
     },
     "metadata": {},
     "output_type": "display_data"
    }
   ],
   "source": [
    "%matplotlib inline\n",
    "import matplotlib.pyplot as plt\n",
    "x = np.random.normal(0, 0.1, 2000)\n",
    "\n",
    "plt.hist (x)\n",
    "\n",
    "plt.show()"
   ]
  },
  {
   "cell_type": "markdown",
   "metadata": {},
   "source": [
    "## Random Generator Section:\n",
    "## The use of seeds in generating pseudorandom numbers."
   ]
  },
  {
   "cell_type": "markdown",
   "metadata": {},
   "source": [
    "Computers cannot pick random numbers. Pi has an decimal expanison that never repeats a pattern and never ends 3.14159265359.......\n",
    "\n",
    "Got to some point in the deciaml expansion, say 7 but dont tell anyone, the position I start from is called the seed.\n",
    "The four functions listed all relate to tje use of Seeds.\n",
    "\n",
    "The use of randomness is an important part of the configuration and evaluation of machine learning algorithms.\n",
    "\n",
    "From the random initialization of weights in an artificial neural network, to the splitting of data into random train and test sets, to the random shuffling of a training dataset in stochastic gradient descent, generating random numbers and harnessing randomness is a required skill. [3]\n",
    "\n",
    "\n",
    "Pseudorandom number generators are computer software packages that create numbers which appear to be random but in reality are predictable when the algorithm used to create these values is known. Computers are deterministic machines which means that their functions can be predictable and repeatable. This can be troublesome in the persuit of generating truely random numbers. \n",
    "\n",
    "Truely random number sequences can be generated by means of measuring the background radiation as it occurs in nature or other such processes. To avail of this truely random number generation, computer manufacturers would have to incorporate extra hardware and software into the design and assembly of their products, in order to measure this background radiation. This is not practical for a number of reasons, finacial reasons, efficiency, product size constraints etc. \n",
    "\n",
    "To combat this issue these generators make use of mathematical operations, series and special operators called \"seeds\". A seed is the key component in the generation of random numbers (a lot of computers use the state of the computer system as the seed, such as the time on the computer that the generator was run). Depending on what type of pseudorandom number generator being used, the seed feeds into a specified mathematical operation, such as the middle squares method or an operation that includes the apparent infinite series of decimals in the number \"pi\".\n",
    "\n",
    "The result is a pseudorandom number or pseudorandom sequence of numbers depending on the mathematical operation. The seed is the crutial aspect in the generation of pseudorandom numbers. If the seed and the mathematical operation is known the pseudorandom numbers generated can be replicated, by anyone. Pseudorandom number generators are often used in cryptography, to encrypt messages and keep important data secure when being transmitted via the internet. To do this seeds have become extremely long and complicated so that it is next to impossible to crack the encryption, in any reasonable length of time. An interesting and informative youtube video from the Khan Academy, explaining the theory behind the generation of pseudorandom numbers can be found below...[ref.]"
   ]
  },
  {
   "cell_type": "markdown",
   "metadata": {},
   "source": [
    "## References:"
   ]
  },
  {
   "cell_type": "markdown",
   "metadata": {},
   "source": [
    "1. https://docs.scipy.org/doc/numpy-1.15.1/reference/routines.random.html\n",
    "2. https://docs.scipy.org/doc/numpy-1.15.1/reference/routines.random.html\n",
    "3. https://machinelearningmastery.com/how-to-generate-random-numbers-in-python/\n"
   ]
  },
  {
   "cell_type": "code",
   "execution_count": null,
   "metadata": {},
   "outputs": [],
   "source": []
  }
 ],
 "metadata": {
  "kernelspec": {
   "display_name": "Python 3",
   "language": "python",
   "name": "python3"
  },
  "language_info": {
   "codemirror_mode": {
    "name": "ipython",
    "version": 3
   },
   "file_extension": ".py",
   "mimetype": "text/x-python",
   "name": "python",
   "nbconvert_exporter": "python",
   "pygments_lexer": "ipython3",
   "version": "3.6.4"
  }
 },
 "nbformat": 4,
 "nbformat_minor": 2
}
