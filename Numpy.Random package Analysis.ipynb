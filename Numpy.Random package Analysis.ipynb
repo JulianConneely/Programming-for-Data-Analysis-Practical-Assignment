{
 "cells": [
  {
   "cell_type": "markdown",
   "metadata": {},
   "source": [
    "# This is a Jupyter notebook explaining the use of the Numpy.Random package as part of the Practical Assigment for the module Programming for Data Analysis 2018"
   ]
  },
  {
   "cell_type": "markdown",
   "metadata": {},
   "source": [
    "<img src=\"https://upload.wikimedia.org/wikipedia/commons/thumb/1/1a/NumPy_logo.svg/1200px-NumPy_logo.svg.png\">"
   ]
  },
  {
   "cell_type": "markdown",
   "metadata": {},
   "source": [
    "## Problem statement:\n",
    "\n",
    "1. Explain the overall purpose of the package.\n",
    "2. Explain the use of the “Simple random data” and “Permutations” functions.\n",
    "3. Explain the use and purpose of at least five “Distributions” functions.\n",
    "4. Explain the use of seeds in generating pseudorandom numbers."
   ]
  },
  {
   "cell_type": "markdown",
   "metadata": {},
   "source": [
    "## Overall purpose of the package:"
   ]
  },
  {
   "cell_type": "markdown",
   "metadata": {},
   "source": [
    "The numpy.random package is used to generate random numbers, it is a sub package of the Numpy package in Python. Numpy is an important package in Python as a lot of other packages depend on it but interacting with the package directly is not actually that common, typically users would interact with it through the use of other packages such as Pandas or SciPy.\n",
    "\n",
    "NumPy is a specialist package dealing with multi dimensional arrays or lists within lists, it is a very efficient method to perform operations on these arrays or matrices using algorithims that have been developed during research on numerical objects over the last half century.\n",
    "\n",
    "It is common to start with a csv imported in to Numpy or in to Pandas which then uses NumPy in the background. If no csv file then you could use the Numpy.Random package to generate simulated data or arrays of numbers which follow a certian pattern.\n",
    "\n",
    "Almost any interesting computing task e.g. image compression involves matrix operations at its most basic level and therefor NumPy is essential as the most efficient method of handling these operations.\n",
    "\n",
    "\n"
   ]
  },
  {
   "cell_type": "markdown",
   "metadata": {},
   "source": [
    "## To be removed:\n",
    "## Rather than giving a summary of each individual function I would give a general explanation of what the library does and reference the various functions in that explanation.\n",
    "\n",
    "Note that the numpy documentation already lists each function, what it does and what inputs and outputs it has. There's no point in just re-writing the documentation in your notebook. It would be better to write an illuminating notebook about what the library does overall.\n",
    "\n",
    "Even though there are a lot of functions in the package, they all are actually variations on the basic notion of drawing values from probability distributions. For instance, the functions in \"Simple random data\" are just convenience functions for using the \"Distributions\" functions. There's not a lot to them and they're all quite similar.\n",
    "\n",
    "Think of your notebook as giving the flavour of what the package is about, using plots, words, and code snippets. There's no point in re-writing the numpy documentation out.\n",
    "\n",
    "Bell shaped curve"
   ]
  },
  {
   "cell_type": "markdown",
   "metadata": {},
   "source": [
    "## Simple Random Data Functions:\n",
    "\n",
    "The functions in \"Simple random data\" are just convenience functions for using the \"Distributions\" functions.They are straight forward and are all quite similar."
   ]
  },
  {
   "cell_type": "markdown",
   "metadata": {},
   "source": [
    "### 1. rand\n",
    "Generates random numbers on the fly, depending on what paramaetrs are entered for the amount of rows and columns.\n",
    "[0, 1) generates numbers between 0 and 1 but less than 1. The square bracket indicates including 0, the round bracket indicates not including 1. The parameters should be positive integers. \n",
    "The **rand** function uses the continuous uniform distribution as the probability distribution, which influences the chances of a value being selected within the range.\n",
    "The likelihood of any value within the limits of the range occuring is uniformly equal.\n"
   ]
  },
  {
   "cell_type": "code",
   "execution_count": 1,
   "metadata": {},
   "outputs": [],
   "source": [
    "# import numpy package in order to use numpy\n",
    "import numpy as np"
   ]
  },
  {
   "cell_type": "code",
   "execution_count": 2,
   "metadata": {
    "scrolled": true
   },
   "outputs": [
    {
     "data": {
      "text/plain": [
       "array([0.45589039, 0.33120748, 0.41442395, 0.06114159, 0.96637819,\n",
       "       0.34403348, 0.96114132, 0.38305831])"
      ]
     },
     "execution_count": 2,
     "metadata": {},
     "output_type": "execute_result"
    }
   ],
   "source": [
    "x = np.random.rand(8)\n",
    "x\n",
    "# returns an array with 8 elements, what is in the brackets determines the shape of the array"
   ]
  },
  {
   "cell_type": "code",
   "execution_count": 3,
   "metadata": {},
   "outputs": [
    {
     "data": {
      "text/plain": [
       "array([[0.4902017 , 0.0517357 ],\n",
       "       [0.89580426, 0.35771414],\n",
       "       [0.48521934, 0.55197466]])"
      ]
     },
     "execution_count": 3,
     "metadata": {},
     "output_type": "execute_result"
    }
   ],
   "source": [
    "np.random.rand(3,2)\n",
    "# returns a two dimensional array with 3 rows and 2 columns, or 3 arrays within an array each with two elements"
   ]
  },
  {
   "cell_type": "code",
   "execution_count": 4,
   "metadata": {},
   "outputs": [
    {
     "data": {
      "text/plain": [
       "array([[0.79563074, 0.49381471],\n",
       "       [0.40142239, 0.35872325],\n",
       "       [0.96757874, 0.94179719],\n",
       "       [0.26778343, 0.41981139]])"
      ]
     },
     "execution_count": 4,
     "metadata": {},
     "output_type": "execute_result"
    }
   ],
   "source": [
    "np.random.rand(4,2)\n",
    "# rerun the function, returns another array of same type but now with 4 rows and the numbers are different AND random"
   ]
  },
  {
   "cell_type": "code",
   "execution_count": 6,
   "metadata": {},
   "outputs": [
    {
     "data": {
      "text/plain": [
       "0.9148834246789037"
      ]
     },
     "execution_count": 6,
     "metadata": {},
     "output_type": "execute_result"
    }
   ],
   "source": [
    "np.random.rand()\n",
    "# pass no arguements into the array returns a single random number"
   ]
  },
  {
   "cell_type": "markdown",
   "metadata": {},
   "source": [
    "##### Generate a plot using matpoltlib indicating how the **rand** function generates the random numbers. This is a histogram for a continuous variable (all the values from 0 up to 1), the histogram function picks a reasonable number of bars to chop the data up in to (10 in this case) and displays a bar for each interval, e.g.0.0 to approx 0.1 shows approx 100 values on the Y axis. The **rand** function has generated 1000 numbers between 0 and up to 1, with approx. 90 to 115 values in each interval. All of the numbers between 0 and up to 1 have the same chance or probability of appearing in the randomly generated list."
   ]
  },
  {
   "cell_type": "code",
   "execution_count": 36,
   "metadata": {},
   "outputs": [
    {
     "data": {
      "image/png": "[encoded data removed]",
      "text/plain": [
       "<matplotlib.figure.Figure at 0x27eda5519e8>"
      ]
     },
     "metadata": {},
     "output_type": "display_data"
    }
   ],
   "source": [
    "%matplotlib inline\n",
    "import matplotlib.pyplot as plt\n",
    "x = np.random.rand(1000)\n",
    "\n",
    "plt.hist (x)\n",
    "\n",
    "plt.show()"
   ]
  },
  {
   "cell_type": "markdown",
   "metadata": {},
   "source": [
    "### 2. randn"
   ]
  },
  {
   "cell_type": "markdown",
   "metadata": {},
   "source": [
    "Generates random values for a range between 0 and 1, again including 0 but not including 1. The **randn** function uses the normal distribution as the probability distribution, which influences the chances of a value being selected within the range. See the Histogram of a Normal Distribution below. The probability is skewed so that values at the centre of the range are more likely to occur than values at the extremeties of the range (i.e. values close to the minimum and maximum of the range)."
   ]
  },
  {
   "cell_type": "code",
   "execution_count": 3,
   "metadata": {},
   "outputs": [
    {
     "data": {
      "text/plain": [
       "array([-0.3687823 ,  0.88974068,  0.98721631,  1.04171377,  1.08898025,\n",
       "        2.34089686, -0.25722562, -1.37436361, -1.29678954,  1.09904548,\n",
       "       -0.72868177, -0.50280142,  1.43693047,  1.44973412,  1.76055621,\n",
       "        0.90264808, -1.23007913,  0.56160668, -0.30616364, -0.65275331,\n",
       "       -1.93014362,  1.11246481,  1.47867822,  1.15736906, -0.10067102,\n",
       "        1.88851955,  1.2745119 , -0.96936691, -1.08344791, -0.91298877,\n",
       "        0.17938661, -0.28139156,  0.29936721, -0.95280415, -0.46592444,\n",
       "       -1.13572519, -0.31491167, -0.60000057, -1.64085087, -0.43514853,\n",
       "        0.69088378,  0.42430287, -1.87775969, -0.44761792,  0.77628188,\n",
       "       -0.34863824, -0.37959058,  0.73794372, -1.35032833,  0.22023078,\n",
       "       -0.28794922,  0.38244591,  0.22341224, -0.42432914,  1.7392469 ,\n",
       "        0.99713958, -0.83812618,  0.86151464,  1.20918528, -1.59161151,\n",
       "        1.49647384, -0.75527753,  0.2764959 , -0.3723228 , -0.18228885,\n",
       "       -1.65153545,  0.40134059, -0.96320042,  0.3020442 ,  2.09515075,\n",
       "       -0.14337843, -1.96366965, -1.46330719,  1.2797981 , -0.46506622,\n",
       "        0.12680921,  0.63454444, -0.69598297,  0.64280991, -0.90271046,\n",
       "       -0.81347595,  0.26265585,  0.08370881,  1.0605732 , -1.7004452 ,\n",
       "       -0.13492399,  1.69713046, -0.66551511,  0.07987874, -0.32314897,\n",
       "       -0.71387504, -0.86122968, -0.04941023,  0.02104579, -0.64622168,\n",
       "       -0.68734819,  0.49876498,  1.81425966, -0.15387429, -0.78124551,\n",
       "       -0.27954854,  1.32134698, -0.9863561 , -0.11655645,  0.74946839,\n",
       "        0.44405477,  1.21662387,  1.95875697, -0.32441751,  1.11511021,\n",
       "       -0.23032594, -1.06799236,  0.22770587,  1.71384625, -0.09947727,\n",
       "       -0.33994627,  0.67742974,  0.02421726, -0.43070943,  0.87435023,\n",
       "       -1.34308927, -0.37265045, -0.73587546, -0.37214758,  1.3638101 ,\n",
       "       -0.23361971, -0.79791434, -2.22187889,  1.62142163, -1.70498018,\n",
       "        0.03229237,  2.45637945, -0.14619022, -0.13772354, -0.30915376,\n",
       "       -1.25343547,  0.47757266,  0.39917941, -0.53444964,  0.69319755,\n",
       "       -0.63317855, -0.64268972,  0.9927084 ,  0.79419863, -1.12336501,\n",
       "        0.49550601, -0.51164637, -1.63011991, -0.63415681,  2.24056594,\n",
       "        0.81632542, -0.6764884 ,  1.17963895,  0.91847614,  1.03635417,\n",
       "        1.82213837,  1.67982865,  0.34918798,  1.50685592, -0.52121333,\n",
       "       -0.37673973, -0.85646001, -0.11403704,  0.9595994 , -1.88245704,\n",
       "        0.19092721, -0.7091272 ,  0.50957169,  0.45996627, -2.10897181,\n",
       "       -1.12272136, -0.01849852, -0.81069926,  0.81340563,  0.80885644,\n",
       "       -1.47423566, -0.08688176, -0.64622936, -0.0951027 , -0.30052536,\n",
       "        0.97734933, -0.89589243, -0.27914331,  0.1331391 ,  1.14507552,\n",
       "       -0.52024718,  0.91199939,  1.49240925, -0.78857163,  2.07599006,\n",
       "       -1.25887898, -0.40148256,  1.9854135 , -0.52166731, -0.55573428,\n",
       "       -0.53134471, -0.48732189,  0.01725283, -0.09402278, -1.56327567,\n",
       "        0.3301141 , -0.3674372 ,  0.33891875,  0.67634478, -1.48556616,\n",
       "       -0.47064799,  1.60119641,  0.95933395, -0.89553641, -0.11557766,\n",
       "        1.38631822,  0.35228391, -0.82826272,  1.43789905,  0.22492575,\n",
       "        0.83097801, -1.05657396,  0.7303047 , -0.04264187,  1.24782542,\n",
       "        0.04741344,  1.20098406,  0.21118701,  0.41677387,  0.48934948,\n",
       "       -0.43605019,  2.82715307,  0.56341694, -0.79137184, -0.14524348,\n",
       "       -1.70550325, -0.13250093,  0.43162416,  0.68046746, -0.62653983,\n",
       "        1.04844046,  1.47565691,  1.20648615,  1.13354994,  1.19056129,\n",
       "        0.38898279,  2.20977651, -0.89306909,  0.29776076,  0.04606603,\n",
       "        1.7816726 ,  0.76570659, -0.23635129,  0.88398769,  0.60069564,\n",
       "       -0.89758819, -0.09349695,  0.73627271,  0.03147978, -1.49343789,\n",
       "       -1.10100809,  1.14362883, -0.46218013,  3.17447405,  0.71798227,\n",
       "       -0.74764021, -0.10251708, -1.16610516,  2.07111692,  0.44460016,\n",
       "        1.22958651,  0.29709998, -1.59296061, -0.74527322, -1.0547066 ,\n",
       "        2.30447521, -0.91798597,  1.44382201, -0.88078636, -2.49379374,\n",
       "        0.1916755 ,  0.1177302 ,  0.64175774, -1.23969151, -0.1753062 ,\n",
       "       -0.05775633, -1.88114914,  0.3538747 ,  1.21952762, -0.14269768,\n",
       "       -2.08962875, -1.84473307,  1.27892212,  0.29246045, -0.30440239,\n",
       "        1.13765486, -1.65718393,  0.19842457, -1.81819634,  0.43248204,\n",
       "        0.59419525, -0.68195015, -0.50556907, -1.24901908,  0.20359498,\n",
       "       -0.99638983,  0.50622356, -0.28915444, -1.24080904,  2.63099444,\n",
       "        0.86860926, -1.58238968, -0.55011626,  2.32306174,  0.76671551,\n",
       "       -0.37677414, -0.10383328, -0.31933032,  0.262891  , -1.73084185,\n",
       "        0.65189271,  1.605457  ,  0.06635505, -0.17337935,  0.62199249,\n",
       "        1.11240631,  0.20340384,  1.74840046, -0.09415557,  0.81528397,\n",
       "        1.45343685, -1.01731599,  0.37958093,  0.20410696,  1.20932825,\n",
       "       -0.43164079, -2.4583556 ,  0.26982989,  0.8727246 , -0.68074164,\n",
       "        0.87615543,  0.5399072 , -1.94364032, -1.2840959 ,  0.12595352,\n",
       "        2.77209216,  2.58667607, -1.01615637,  0.72249668, -1.19423836,\n",
       "       -1.05877404,  0.47005552, -0.78278055,  0.31758231, -1.52107286,\n",
       "       -0.80403678, -0.76717863, -0.8624828 ,  0.80837643, -0.7404559 ,\n",
       "        0.96297979, -0.41843538, -0.19943384,  0.54228857, -0.2382393 ,\n",
       "        1.27362529, -0.18714832,  1.19886647,  0.63644728,  1.09934651,\n",
       "       -0.53029288,  0.69848236,  0.05828442, -1.23544551,  1.70812024,\n",
       "       -0.18122292, -1.43378966, -0.33425543, -0.50238357, -0.09527786,\n",
       "       -0.30735417, -1.6287343 ,  2.37699044, -0.78996566, -0.14370641,\n",
       "        1.48067371, -0.42374028, -1.39053366, -1.30435171,  0.18358548,\n",
       "       -1.14344524, -0.07701494,  0.04863373,  0.81466712, -0.97556081,\n",
       "        0.35344252, -0.61543272, -1.78688496, -0.90124957,  0.04818267,\n",
       "       -0.64112693, -0.22312892,  0.48863829,  0.27518887,  1.64784005,\n",
       "       -0.47017636,  0.57731065, -0.09156358,  1.01093435, -0.58976442,\n",
       "       -0.85147436,  1.10513739, -1.25459677, -0.18357855,  0.04180146,\n",
       "        1.90788981,  1.35720318, -0.12705145,  0.71495207,  0.64635469,\n",
       "        0.46539359,  0.07449387, -0.71235766, -0.91496166,  1.54075939,\n",
       "       -0.05499155,  0.33764966,  0.31034947,  0.42378817, -0.91736003,\n",
       "        0.15364666, -1.30555829,  0.49678377, -0.09343252,  1.81590501,\n",
       "        0.00878669, -0.87262325,  0.41724871, -1.89805148, -0.70448964,\n",
       "        0.23619476, -0.28477175,  0.33354177,  0.31346984,  0.55390675,\n",
       "        0.44976718, -0.66393599,  0.59719138,  1.71803263,  0.09323863,\n",
       "       -1.15874351,  0.01572286, -1.39539603, -0.20611331, -1.77320207,\n",
       "        0.78908376,  0.66576158,  0.86799906, -0.94414053,  1.63220061,\n",
       "        0.94110975, -0.59815041, -0.94831657, -0.46127779, -0.0701315 ,\n",
       "        0.10673305,  1.34002322, -0.94166711,  1.43518873, -0.55838819,\n",
       "        1.37527839,  0.60111913,  0.58049976, -0.07780668, -0.1005587 ,\n",
       "       -1.81364817,  1.28890662, -1.93951073,  0.68418933, -0.12120067,\n",
       "       -0.80693197,  0.31111624,  0.43689205, -1.17227484, -0.25872271,\n",
       "        0.10409598,  0.25928837,  0.62157277, -1.13735299,  1.09167737,\n",
       "        0.02633796,  0.0158942 ,  1.80613719,  1.73710493,  1.44074139,\n",
       "        1.1332151 , -0.10961669,  0.64051709,  1.84676369, -1.6137226 ,\n",
       "       -0.4413841 ,  0.9963487 ,  1.8785897 , -0.21554421,  0.74047763,\n",
       "       -2.29326469,  1.24417464,  0.04441556, -0.61689369,  0.66815443,\n",
       "       -1.24546775, -1.97900231,  0.5646588 ,  0.17208728, -1.36704533,\n",
       "       -1.55335306,  0.17848017,  1.28801229, -0.60970833, -0.19059812,\n",
       "       -1.88640285,  1.3405152 ,  0.47172201,  0.91732674,  0.65833776,\n",
       "        0.64260658, -1.06342248,  0.7774035 ,  1.01816493,  0.30649808,\n",
       "        1.62595933, -0.26806807, -0.96761657,  0.06361143, -1.76076691,\n",
       "        0.67635369,  0.9327144 , -1.83219106, -0.78181701, -1.05135312,\n",
       "       -1.06603477, -0.40940674, -0.96705818, -1.06955441,  0.15404552,\n",
       "       -0.45364373, -0.41139257, -0.85631597, -1.01400689, -1.02386955,\n",
       "       -0.81932606, -0.27939223, -0.42043105,  0.68872263, -2.10329827,\n",
       "        0.30378666,  1.15806012, -0.3288962 , -2.11705756, -0.1873144 ,\n",
       "        1.81621657,  0.7559824 , -0.2181623 ,  0.14357669, -0.98016999,\n",
       "       -0.91619445,  1.09348548, -1.15859936,  1.56911737,  1.05778644,\n",
       "        0.80660914, -0.14404682, -0.73281444,  0.18864662, -0.50209377,\n",
       "       -0.15056423, -0.68981452,  1.47640264, -1.04101374,  0.52386551,\n",
       "        0.63623249,  0.59127609,  0.81844516, -1.05222355, -1.02274894,\n",
       "        0.93175301,  0.94643897, -1.47888104, -1.06796894,  1.20731733,\n",
       "       -0.2933951 , -0.37619813,  0.96483084, -1.27122661,  0.26020543,\n",
       "       -1.26571763, -1.11208939, -2.58988067,  0.66268841, -0.87711533,\n",
       "       -0.25847158,  0.15156779, -0.34038213,  2.36645277, -0.88344119,\n",
       "       -0.27327412, -1.3251289 , -1.64266544,  0.07230703,  0.7664577 ,\n",
       "        0.60196535,  1.43215154,  0.18367166,  0.05019518,  1.81102926,\n",
       "       -0.60570543, -0.79153634,  1.39259487, -1.06503015, -0.52939567,\n",
       "       -0.69218996,  0.7185846 , -0.30501746, -0.12344479,  0.20751103,\n",
       "       -0.52070698, -0.51506293,  0.41911267,  1.33582323,  0.00974015,\n",
       "        0.8912946 , -0.99888886, -0.82596269, -0.20845492, -0.17987091,\n",
       "        2.35291914,  0.59625221, -0.79257073, -1.12057713,  0.691522  ,\n",
       "        0.02774422, -0.58890538, -1.37705455, -1.78825599,  0.80018015,\n",
       "        1.13068502, -0.04755813,  0.11505825,  0.61125915, -0.48357721,\n",
       "        0.8648635 ,  0.16114171,  0.76289456, -0.8754383 ,  1.24990286,\n",
       "       -0.43247265,  2.74361977,  0.38371837,  0.03622098,  1.47310693,\n",
       "        0.82506829,  0.3547769 , -1.15583043,  3.86469647, -0.17479175,\n",
       "       -0.58073661, -1.2449352 , -0.72554789,  0.87212842,  0.68366164,\n",
       "        0.59592815, -0.2665892 ,  1.49778519, -0.51002919, -0.86083948,\n",
       "       -0.79821904, -1.54710121,  1.12286209, -0.36245306,  1.5516904 ,\n",
       "        0.49357672,  0.25666761,  0.15240757, -1.57832232, -0.56274894,\n",
       "       -1.34003798, -1.4038746 , -0.27309907, -0.1059298 ,  2.07429019,\n",
       "        0.75787692, -0.02900389, -1.45164903, -0.21044619,  0.01118864,\n",
       "        1.08239691, -0.7838233 ,  0.11062369, -2.1223923 ,  0.28633276,\n",
       "       -0.59984581, -0.81265059,  0.35034081,  1.80767461,  0.00910029,\n",
       "        0.37639515, -1.47295926, -0.99132248, -0.22156154,  2.49894522,\n",
       "        0.56395661,  0.449433  , -2.44961361,  1.0681505 , -1.75582399,\n",
       "        2.54672404, -1.88434299,  1.59548989,  0.49334866,  0.06473399,\n",
       "       -0.61869913,  0.95757217, -0.87660556,  0.45711043,  2.22361942,\n",
       "       -1.42316514,  1.18062903,  0.76427467, -0.90557045, -0.55586174,\n",
       "       -1.04963879, -0.33850852, -1.58725726, -0.01979   , -0.27816898,\n",
       "       -0.05853438,  0.1835141 ,  1.00361626,  0.32995489, -0.30964918,\n",
       "       -0.70241677,  0.85691532, -0.02418098,  1.02627956, -2.22840335,\n",
       "       -1.54368058,  1.14850536,  0.37899069,  0.23831823, -1.05574841,\n",
       "       -0.85106573, -0.19561677,  0.55040595,  3.14399502, -0.06366111,\n",
       "        0.59926793,  0.63236739, -0.45719777,  0.22547422, -1.07077912,\n",
       "        0.6702243 ,  0.74468153,  0.22201496,  1.61085315, -0.26010203,\n",
       "        0.2067752 , -0.90388007,  0.07012036,  1.03354618, -2.91251679,\n",
       "       -0.15914716,  1.58096967,  1.06946943,  1.05181327,  0.85735442,\n",
       "        0.97063913, -0.01855967, -0.09944856,  0.24255892, -0.43079916,\n",
       "        0.08270769,  1.7969281 , -1.13106707,  0.13922965, -0.62825923,\n",
       "        0.16709765, -0.31587275,  0.39827199,  0.21248872,  0.58555231,\n",
       "        0.92421491, -1.74988784,  0.73461057, -0.32229525, -0.12371658,\n",
       "       -1.6647697 ,  0.19474988,  0.39452244,  2.37281675, -1.93144481,\n",
       "        0.94127009, -0.62275182, -0.8705752 ,  0.16861264, -0.10463984,\n",
       "        0.11024383,  2.0202394 , -0.74331718, -1.00151417, -0.59015304,\n",
       "       -0.55288401, -0.60754854, -2.20971586, -1.16626292,  0.58962146,\n",
       "       -0.05607636, -0.03255946,  0.86972883, -0.1871449 , -0.78696525,\n",
       "        0.07081219, -0.95241506,  0.26496589,  0.9192079 , -0.98014961,\n",
       "        0.08151275,  0.20144266, -0.0728536 ,  0.02071326, -0.86844989,\n",
       "        0.18681195, -0.99371868, -2.63512812,  0.71863753,  0.27546004,\n",
       "       -0.70640296, -0.58102632,  0.67377261, -1.00068905,  0.0738261 ,\n",
       "       -0.06056629,  0.76495548,  0.05718007,  1.08553526,  0.4094982 ,\n",
       "        1.421245  ,  0.54801468,  1.36169656, -2.9590653 , -1.90062451,\n",
       "       -0.36587374, -0.71699593,  2.49112714,  0.86612902, -0.45443593,\n",
       "        0.41275752, -0.24510321, -0.62889006, -1.05868734,  0.09893422,\n",
       "        2.13198131,  0.68661297,  0.59345232, -0.76919191, -0.31497989,\n",
       "        0.2199397 ,  0.44220173,  1.71473525, -1.32492204,  1.5869166 ,\n",
       "       -2.2273895 ,  0.38783748, -2.39932402, -1.873391  ,  0.52590556,\n",
       "        0.60648532, -0.00574199, -0.23060196, -1.55361815,  0.66535383,\n",
       "       -0.43302605, -0.20300398, -0.0366969 ,  0.52065738, -0.28145661,\n",
       "        0.1955341 ,  0.97831566, -0.01367672,  0.8955199 ,  0.78872871,\n",
       "       -1.58291497, -2.07370299,  0.18152788, -1.84842953, -0.4208699 ,\n",
       "        0.78425479,  1.89101145,  0.27086738,  2.12847321, -0.3180463 ,\n",
       "        0.63340031, -0.5412009 , -0.13459075,  1.20170623, -1.12240947,\n",
       "       -0.3676359 , -0.13071081,  1.03429154, -0.07247263,  0.86674835,\n",
       "       -0.2579775 , -0.08279234,  0.47017776, -2.17960792,  0.77671488,\n",
       "       -2.02374445,  0.77120536, -0.85472787,  0.41298787,  0.81594702,\n",
       "        0.06150602, -1.88578997,  0.99467617, -0.26940119, -1.34917747,\n",
       "        0.88750783,  1.3968635 , -0.46783984,  1.23881293, -1.63752596,\n",
       "        0.36221321, -2.25696981,  0.82108709,  1.18055762,  0.21641348,\n",
       "       -0.63554702,  0.70613602, -0.30895379,  0.24072127,  0.81121129,\n",
       "       -0.52107953, -1.75772162,  1.55204873,  0.81624868, -0.4972925 ,\n",
       "       -0.64691953,  0.91300396,  0.97987894, -0.35736785, -0.50936543,\n",
       "        1.02159446, -0.3280001 , -1.21205545, -0.54942887,  0.55552882,\n",
       "       -0.34068491,  1.05753715, -0.01864859, -0.31935364, -0.63193169,\n",
       "       -0.38949079,  0.3884278 , -0.72340298,  0.26920736, -1.16834049,\n",
       "       -0.20154307,  0.08009339,  0.1708336 ,  1.26214802, -0.36097651,\n",
       "        0.81110841,  0.69716047, -0.91461594,  0.64880975,  0.38363828,\n",
       "       -0.96284136, -0.20566446,  1.71739673,  1.1747464 , -1.01024082,\n",
       "        0.84708287, -0.82824498, -1.1825619 ,  1.08653774,  2.21530319,\n",
       "        0.59540617, -1.18630586,  0.24268126, -0.32592422,  0.28707437,\n",
       "       -0.93930931, -1.15750737,  0.30780186,  0.477693  ,  1.19252696,\n",
       "       -0.05489884,  1.17430586,  0.04197823, -0.50444222, -2.35188478,\n",
       "       -0.27136037,  0.04515151, -0.97693722,  1.48210617, -0.66685482])"
      ]
     },
     "execution_count": 3,
     "metadata": {},
     "output_type": "execute_result"
    }
   ],
   "source": [
    "import numpy as np\n",
    "np.random.randn(1000)\n",
    "# rerun the function, returns another array of same type but now with 4 rows and the numbers are different AND rando"
   ]
  },
  {
   "cell_type": "code",
   "execution_count": 4,
   "metadata": {},
   "outputs": [
    {
     "data": {
      "image/png": "[encoded data removed]",
      "text/plain": [
       "<matplotlib.figure.Figure at 0x21dcc145ef0>"
      ]
     },
     "metadata": {},
     "output_type": "display_data"
    }
   ],
   "source": [
    "%matplotlib inline\n",
    "import matplotlib.pyplot as plt\n",
    "x = np.random.randn(1000)\n",
    "\n",
    "plt.hist (x)\n",
    "\n",
    "plt.show()"
   ]
  },
  {
   "cell_type": "markdown",
   "metadata": {},
   "source": [
    "### 3. randint"
   ]
  },
  {
   "cell_type": "code",
   "execution_count": null,
   "metadata": {},
   "outputs": [],
   "source": []
  },
  {
   "cell_type": "markdown",
   "metadata": {},
   "source": [
    "## Permutations Functions:"
   ]
  },
  {
   "cell_type": "markdown",
   "metadata": {},
   "source": [
    "### 1. Shuffle"
   ]
  },
  {
   "cell_type": "code",
   "execution_count": null,
   "metadata": {},
   "outputs": [],
   "source": []
  },
  {
   "cell_type": "markdown",
   "metadata": {},
   "source": [
    "### 2. Permutation"
   ]
  },
  {
   "cell_type": "code",
   "execution_count": null,
   "metadata": {},
   "outputs": [],
   "source": []
  },
  {
   "cell_type": "markdown",
   "metadata": {},
   "source": [
    "## Distributions Section:"
   ]
  },
  {
   "cell_type": "markdown",
   "metadata": {},
   "source": [
    "## 1. Uniform Distribution "
   ]
  },
  {
   "cell_type": "markdown",
   "metadata": {},
   "source": [
    "Sometimes also known as a rectangular distribution, is a distribution that has constant probability with the first number being the lower boundary, second number being upper boundary and third being the size of the array. Very similar to rand ( which only works between 0 and 1), uniform gives random numbers in any interval again with lower boundary included and upper boundary excluded and with these boundaries being interchangeable i.e. having a higher number in the \"lower\" position will nto break the funrction it just switches them around."
   ]
  },
  {
   "cell_type": "code",
   "execution_count": 40,
   "metadata": {},
   "outputs": [
    {
     "data": {
      "text/plain": [
       "array([ 8.36033322, -0.80691031,  5.28253421,  8.64104263,  8.18312182,\n",
       "        4.35638815,  3.53807153, -0.18099787,  3.39354323,  3.70159345,\n",
       "       -0.60330063,  8.37567799, -0.45461286,  3.59255457,  1.776873  ,\n",
       "        6.72019964,  5.91075681, -0.81435835,  6.06159409,  4.3301264 ])"
      ]
     },
     "execution_count": 40,
     "metadata": {},
     "output_type": "execute_result"
    }
   ],
   "source": [
    "x = np.random.uniform(-1, 9, 20)\n",
    "x"
   ]
  },
  {
   "cell_type": "markdown",
   "metadata": {},
   "source": [
    "Again we can generate a plot using matpoltlib indicating how the **uniform** function generates the random numbers. This is a histogram for a continuous variable (20 random values from -1 up to 9). The **uniform** function has generated 20 numbers between -1 and up to 9. The Hist function has again chopped this into 10 intervals with ll of the numbers between -1 and up to 9 have the same chance or probability of appearing in the randomly generated list."
   ]
  },
  {
   "cell_type": "code",
   "execution_count": 51,
   "metadata": {},
   "outputs": [
    {
     "data": {
      "image/png": "[encoded data removed]",
      "text/plain": [
       "<matplotlib.figure.Figure at 0x27eda36b978>"
      ]
     },
     "metadata": {},
     "output_type": "display_data"
    }
   ],
   "source": [
    "%matplotlib inline\n",
    "import matplotlib.pyplot as plt\n",
    "x = np.random.uniform(-1, 9, 20)\n",
    "\n",
    "plt.hist (x)\n",
    "\n",
    "plt.show()"
   ]
  },
  {
   "cell_type": "markdown",
   "metadata": {},
   "source": [
    "\n",
    "\n"
   ]
  },
  {
   "cell_type": "markdown",
   "metadata": {},
   "source": [
    "## 2. Normal distribution\n",
    "The probability density function of the normal distribution, first derived by De Moivre and 200 years later by both Gauss and Laplace independently [2], is often called the bell curve because of its characteristic shape (see the example below). The normal distributions occurs often in nature."
   ]
  },
  {
   "cell_type": "code",
   "execution_count": 66,
   "metadata": {
    "scrolled": true
   },
   "outputs": [
    {
     "data": {
      "text/plain": [
       "array([ 0.11736261,  0.05313681, -0.04575828, ...,  0.083016  ,\n",
       "       -0.04424481,  0.25593952])"
      ]
     },
     "execution_count": 66,
     "metadata": {},
     "output_type": "execute_result"
    }
   ],
   "source": [
    "x = np.random.normal(0, 0.1, 2000)\n",
    "x\n"
   ]
  },
  {
   "cell_type": "markdown",
   "metadata": {},
   "source": [
    "A way of generating numbers randomly, with values centered around the mean of the distribution (0 in this case), huge proportion 90% of the values are within 3 times the standard deviation number given (or the 'spread' 0.1 in this case); with the third number again being the size of the array.\n",
    "Again using our Histogram plot below we can see the bell shaped curve with the distributoon centered around the mean."
   ]
  },
  {
   "cell_type": "code",
   "execution_count": 69,
   "metadata": {},
   "outputs": [
    {
     "data": {
      "image/png": "[encoded data removed]",
      "text/plain": [
       "<matplotlib.figure.Figure at 0x27eda0c7a20>"
      ]
     },
     "metadata": {},
     "output_type": "display_data"
    }
   ],
   "source": [
    "%matplotlib inline\n",
    "import matplotlib.pyplot as plt\n",
    "x = np.random.normal(0, 0.1, 2000)\n",
    "\n",
    "plt.hist (x)\n",
    "\n",
    "plt.show()"
   ]
  },
  {
   "cell_type": "markdown",
   "metadata": {},
   "source": [
    "## Random Generator Section:\n",
    "## The use of seeds in generating pseudorandom numbers."
   ]
  },
  {
   "cell_type": "markdown",
   "metadata": {},
   "source": [
    "Computers cannot pick random numbers. Pi has an decimal expanison that never repeats a pattern and never ends 3.14159265359.......\n",
    "\n",
    "Got to some point in the deciaml expansion, say 7 but dont tell anyone, the position I start from is called the seed.\n",
    "The four functions listed all relate to tje use of Seeds.\n",
    "\n",
    "The use of randomness is an important part of the configuration and evaluation of machine learning algorithms.\n",
    "\n",
    "From the random initialization of weights in an artificial neural network, to the splitting of data into random train and test sets, to the random shuffling of a training dataset in stochastic gradient descent, generating random numbers and harnessing randomness is a required skill. [3]\n",
    "\n",
    "\n",
    "Pseudorandom number generators are computer software packages that create numbers which appear to be random but in reality are predictable when the algorithm used to create these values is known. Computers are deterministic machines which means that their functions can be predictable and repeatable. This can be troublesome in the persuit of generating truely random numbers. \n",
    "\n",
    "Truely random number sequences can be generated by means of measuring the background radiation as it occurs in nature or other such processes. To avail of this truely random number generation, computer manufacturers would have to incorporate extra hardware and software into the design and assembly of their products, in order to measure this background radiation. This is not practical for a number of reasons, finacial reasons, efficiency, product size constraints etc. \n",
    "\n",
    "To combat this issue these generators make use of mathematical operations, series and special operators called \"seeds\". A seed is the key component in the generation of random numbers (a lot of computers use the state of the computer system as the seed, such as the time on the computer that the generator was run). Depending on what type of pseudorandom number generator being used, the seed feeds into a specified mathematical operation, such as the middle squares method or an operation that includes the apparent infinite series of decimals in the number \"pi\".\n",
    "\n",
    "The result is a pseudorandom number or pseudorandom sequence of numbers depending on the mathematical operation. The seed is the crutial aspect in the generation of pseudorandom numbers. If the seed and the mathematical operation is known the pseudorandom numbers generated can be replicated, by anyone. Pseudorandom number generators are often used in cryptography, to encrypt messages and keep important data secure when being transmitted via the internet. To do this seeds have become extremely long and complicated so that it is next to impossible to crack the encryption, in any reasonable length of time. An interesting and informative youtube video from the Khan Academy, explaining the theory behind the generation of pseudorandom numbers can be found below...[ref.]"
   ]
  },
  {
   "cell_type": "markdown",
   "metadata": {},
   "source": [
    "## References:"
   ]
  },
  {
   "cell_type": "markdown",
   "metadata": {},
   "source": [
    "1. https://docs.scipy.org/doc/numpy-1.15.1/reference/routines.random.html\n",
    "2. https://docs.scipy.org/doc/numpy-1.15.1/reference/routines.random.html\n",
    "3. https://machinelearningmastery.com/how-to-generate-random-numbers-in-python/\n"
   ]
  },
  {
   "cell_type": "code",
   "execution_count": null,
   "metadata": {},
   "outputs": [],
   "source": []
  }
 ],
 "metadata": {
  "kernelspec": {
   "display_name": "Python 3",
   "language": "python",
   "name": "python3"
  },
  "language_info": {
   "codemirror_mode": {
    "name": "ipython",
    "version": 3
   },
   "file_extension": ".py",
   "mimetype": "text/x-python",
   "name": "python",
   "nbconvert_exporter": "python",
   "pygments_lexer": "ipython3",
   "version": "3.6.4"
  }
 },
 "nbformat": 4,
 "nbformat_minor": 2
}
