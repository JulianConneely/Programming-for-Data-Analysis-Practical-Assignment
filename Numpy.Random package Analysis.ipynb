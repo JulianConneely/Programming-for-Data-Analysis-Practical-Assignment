{
 "cells": [
  {
   "cell_type": "markdown",
   "metadata": {},
   "source": [
    "# This is a Jupyter notebook explaining the use of the Numpy.Random package as part of the Practical Assigment for the module Programming for Data Analysis 2018"
   ]
  },
  {
   "cell_type": "markdown",
   "metadata": {},
   "source": [
    "<img src=\"https://upload.wikimedia.org/wikipedia/commons/thumb/1/1a/NumPy_logo.svg/1200px-NumPy_logo.svg.png\">"
   ]
  },
  {
   "cell_type": "markdown",
   "metadata": {},
   "source": [
    "## Problem statement:\n",
    "\n",
    "1. Explain the overall purpose of the package.\n",
    "2. Explain the use of the “Simple random data” and “Permutations” functions.\n",
    "3. Explain the use and purpose of at least five “Distributions” functions.\n",
    "4. Explain the use of seeds in generating pseudorandom numbers."
   ]
  },
  {
   "cell_type": "markdown",
   "metadata": {},
   "source": [
    "## Overall purpose of the package:"
   ]
  },
  {
   "cell_type": "markdown",
   "metadata": {},
   "source": [
    "The numpy.random package is used to generate random numbers, it is a sub package of the Numpy package in Python. Numpy is an important package in Python as a lot of other packages depend on it but interacting with the package directly is nat actually that common, typically users would interact with it through the use of other packages such as Pandas or SciPy.\n",
    "\n",
    "NumPy is a specialist package dealing with multi dimensional arrays or lists within lists, it is a very efficient method to perform operations on these arrays or matrices using algorithims that have been developed during research on numerical objects over the last half century.\n",
    "\n",
    "See Quick start Tutorial https://docs.scipy.org/doc/numpy-1.15.1/user/quickstart.html?highlight=quickstart; create two dimensional arrays. It is common to start with a csv imported in to Numpy, or in to Pandas which then uses NumPy in the background. If no csv file then you could use the Numpy.Random package to generate simulated data or arrays of numbers which follow a certian pattern.\n",
    "\n",
    "Almost any interesting computing task e.g. image compression involves matrix operations at its most basic level and therefor NumPy is essential as the most efficient method of handling these operations.\n",
    "\n",
    "\n"
   ]
  },
  {
   "cell_type": "markdown",
   "metadata": {},
   "source": [
    "## Rather than giving a summary of each individual function I would give a general explanation of what the library does and reference the various functions in that explanation.\n",
    "\n",
    "Note that the numpy documentation already lists each function, what it does and what inputs and outputs it has. There's no point in just re-writing the documentation in your notebook. It would be better to write an illuminating notebook about what the library does overall.\n",
    "\n",
    "Even though there are a lot of functions in the package, they all are actually variations on the basic notion of drawing values from probability distributions. For instance, the functions in \"Simple random data\" are just convenience functions for using the \"Distributions\" functions. There's not a lot to them and they're all quite similar.\n",
    "\n",
    "Think of your notebook as giving the flavour of what the package is about, using plots, words, and code snippets. There's no point in re-writing the numpy documentation out.\n",
    "\n",
    "Bell shaped curve"
   ]
  },
  {
   "cell_type": "markdown",
   "metadata": {},
   "source": [
    "## Simple Random Data Section:"
   ]
  },
  {
   "cell_type": "code",
   "execution_count": null,
   "metadata": {},
   "outputs": [],
   "source": []
  },
  {
   "cell_type": "markdown",
   "metadata": {},
   "source": [
    "## 1. numpy.random.rand\n",
    "Generates random numbers on the fly, depending on what paramaetrs are entered for the amount of rows and columns.\n",
    "[0, 1) generates numbers between 0 and 1 but less than 1. The parameters should be positive integers. \n"
   ]
  },
  {
   "cell_type": "code",
   "execution_count": 1,
   "metadata": {},
   "outputs": [],
   "source": [
    "# import numpy package in order to use numpy\n",
    "import numpy as np"
   ]
  },
  {
   "cell_type": "code",
   "execution_count": 2,
   "metadata": {
    "scrolled": true
   },
   "outputs": [
    {
     "data": {
      "text/plain": [
       "array([0.45589039, 0.33120748, 0.41442395, 0.06114159, 0.96637819,\n",
       "       0.34403348, 0.96114132, 0.38305831])"
      ]
     },
     "execution_count": 2,
     "metadata": {},
     "output_type": "execute_result"
    }
   ],
   "source": [
    "x = np.random.rand(8)\n",
    "x\n",
    "# returns an array with 8 elements, what is in the brackets determines the shape of the array"
   ]
  },
  {
   "cell_type": "code",
   "execution_count": 3,
   "metadata": {},
   "outputs": [
    {
     "data": {
      "text/plain": [
       "array([[0.4902017 , 0.0517357 ],\n",
       "       [0.89580426, 0.35771414],\n",
       "       [0.48521934, 0.55197466]])"
      ]
     },
     "execution_count": 3,
     "metadata": {},
     "output_type": "execute_result"
    }
   ],
   "source": [
    "np.random.rand(3,2)\n",
    "# returns an array with 3 rows and 2 columns, or 3 arrays within an array each with two elements"
   ]
  },
  {
   "cell_type": "code",
   "execution_count": 4,
   "metadata": {},
   "outputs": [
    {
     "data": {
      "text/plain": [
       "array([[0.79563074, 0.49381471],\n",
       "       [0.40142239, 0.35872325],\n",
       "       [0.96757874, 0.94179719],\n",
       "       [0.26778343, 0.41981139]])"
      ]
     },
     "execution_count": 4,
     "metadata": {},
     "output_type": "execute_result"
    }
   ],
   "source": [
    "np.random.rand(4,2)\n",
    "# rerun the function, returns another array of same type but now with 4 rows and the numbers are different AND random"
   ]
  },
  {
   "cell_type": "markdown",
   "metadata": {},
   "source": [
    "Generate a plot using matpoltlib indicating how rand function generates the random numbers"
   ]
  },
  {
   "cell_type": "code",
   "execution_count": null,
   "metadata": {},
   "outputs": [],
   "source": [
    "import matplotlib.pyplot as plt\n",
    "plt.hist(x)\n",
    "plt.show()"
   ]
  },
  {
   "cell_type": "markdown",
   "metadata": {},
   "source": [
    "## Permutations Section:"
   ]
  },
  {
   "cell_type": "code",
   "execution_count": null,
   "metadata": {},
   "outputs": [],
   "source": []
  },
  {
   "cell_type": "markdown",
   "metadata": {},
   "source": [
    "## Distributions Section:"
   ]
  },
  {
   "cell_type": "markdown",
   "metadata": {},
   "source": [
    "## 1. A 'Uniform Distribution', sometimes also known as a rectangular distribution, is a distribution that has constant probability."
   ]
  },
  {
   "cell_type": "markdown",
   "metadata": {},
   "source": [
    "Uniform function with first number being the lower boundary, second number being upper boundary and third being the size. Very similar to rand ( only between 0 and 1), uniform gives random numbers in any interval"
   ]
  },
  {
   "cell_type": "code",
   "execution_count": null,
   "metadata": {},
   "outputs": [],
   "source": [
    "x = np.random.uniform(0, 1000, 10000)\n",
    "x"
   ]
  },
  {
   "cell_type": "code",
   "execution_count": null,
   "metadata": {},
   "outputs": [],
   "source": [
    "plt.hist(x)"
   ]
  },
  {
   "cell_type": "markdown",
   "metadata": {},
   "source": [
    "The Hist function has chopped this into 10 \"what is the correct term?\"\n"
   ]
  },
  {
   "cell_type": "markdown",
   "metadata": {},
   "source": [
    "## 2. A normal distribution\n",
    "The probability density function of the normal distribution, first derived by De Moivre and 200 years later by both Gauss and Laplace independently [2], is often called the bell curve because of its characteristic shape (see the example below).\n",
    "\n",
    "The normal distributions occurs often in nature. For example, it describes the commonly occurring distribution of samples influenced by a large number of tiny, random disturbances, each with its own unique distribution [2]."
   ]
  },
  {
   "cell_type": "code",
   "execution_count": null,
   "metadata": {},
   "outputs": [],
   "source": [
    "x = np.random.normal(0, 0.1, 10000)\n",
    "x"
   ]
  },
  {
   "cell_type": "code",
   "execution_count": null,
   "metadata": {},
   "outputs": [],
   "source": [
    "plt.hist(x)"
   ]
  },
  {
   "cell_type": "markdown",
   "metadata": {},
   "source": [
    "a way of generating numbers randomly, with values centered around 0 (here), huge proportion of values centered aroudn a single value"
   ]
  },
  {
   "cell_type": "markdown",
   "metadata": {},
   "source": [
    "## Random Generator Section:\n",
    "## The use of seeds in generating pseudorandom numbers."
   ]
  },
  {
   "cell_type": "markdown",
   "metadata": {},
   "source": [
    "Pseudorandom number generators are computer software packages that create numbers which appear to be random but in reality are predictable when the algorithm used to create these values is known. Computers are deterministic machines which means that their functions can be predictable and repeatable. This can be troublesome in the persuit of generating truely random numbers. \n",
    "\n",
    "Truely random number sequences can be generated by means of measuring the background radiation as it occurs in nature or other such processes. To avail of this truely random number generation, computer manufacturers would have to incorporate extra hardware and software into the design and assembly of their products, in order to measure this background radiation. This is not practical for a number of reasons, finacial reasons, efficiency, product size constraints etc. \n",
    "\n",
    "To combat this issue these generators make use of mathematical operations, series and special operators called \"seeds\". A seed is the key component in the generation of random numbers (a lot of computers use the state of the computer system as the seed, such as the time on the computer that the generator was run). Depending on what type of pseudorandom number generator being used, the seed feeds into a specified mathematical operation, such as the middle squares method or an operation that includes the apparent infinite series of decimals in the number \"pi\".\n",
    "\n",
    "The result is a pseudorandom number or pseudorandom sequence of numbers depending on the mathematical operation. The seed is the crutial aspect in the generation of pseudorandom numbers. If the seed and the mathematical operation is known the pseudorandom numbers generated can be replicated, by anyone. Pseudorandom number generators are often used in cryptography, to encrypt messages and keep important data secure when being transmitted via the internet. To do this seeds have become extremely long and complicated so that it is next to impossible to crack the encryption, in any reasonable length of time. An interesting and informative youtube video from the Khan Academy, explaining the theory behind the generation of pseudorandom numbers can be found below...[ref.]"
   ]
  },
  {
   "cell_type": "markdown",
   "metadata": {},
   "source": [
    "## References:"
   ]
  },
  {
   "cell_type": "markdown",
   "metadata": {},
   "source": [
    "1. https://docs.scipy.org/doc/numpy-1.15.1/reference/routines.random.html\n",
    "2. https://docs.scipy.org/doc/numpy-1.15.1/reference/routines.random.html\n",
    "3.\n",
    "4.\n"
   ]
  },
  {
   "cell_type": "code",
   "execution_count": null,
   "metadata": {},
   "outputs": [],
   "source": []
  }
 ],
 "metadata": {
  "kernelspec": {
   "display_name": "Python 3",
   "language": "python",
   "name": "python3"
  },
  "language_info": {
   "codemirror_mode": {
    "name": "ipython",
    "version": 3
   },
   "file_extension": ".py",
   "mimetype": "text/x-python",
   "name": "python",
   "nbconvert_exporter": "python",
   "pygments_lexer": "ipython3",
   "version": "3.6.4"
  }
 },
 "nbformat": 4,
 "nbformat_minor": 2
}
