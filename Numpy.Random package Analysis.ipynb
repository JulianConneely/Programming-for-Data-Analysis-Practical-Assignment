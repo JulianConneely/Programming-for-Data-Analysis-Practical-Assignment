{
 "cells": [
  {
   "cell_type": "markdown",
   "metadata": {},
   "source": [
    "# This is a Jupyter notebook explaining the use of the Numpy.Random package as part of the Practical Assigment for the module Programming for Data Analysis 2018"
   ]
  },
  {
   "cell_type": "markdown",
   "metadata": {},
   "source": [
    "<img src=\"https://upload.wikimedia.org/wikipedia/commons/thumb/1/1a/NumPy_logo.svg/1200px-NumPy_logo.svg.png\">"
   ]
  },
  {
   "cell_type": "markdown",
   "metadata": {},
   "source": [
    "## Problem statement:\n",
    "\n",
    "\n",
    "1. Explain the overall purpose of the package.\n",
    "2. Explain the use of the “Simple random data” and “Permutations” functions.\n",
    "3. Explain the use and purpose of at least five “Distributions” functions.\n",
    "4. Explain the use of seeds in generating pseudorandom numbers."
   ]
  },
  {
   "cell_type": "markdown",
   "metadata": {},
   "source": [
    "## Overall purpose of the package:"
   ]
  },
  {
   "cell_type": "markdown",
   "metadata": {},
   "source": [
    "The numpy.random package is used to generate random numbers, it is a sub package of the Numpy package in Python. Numpy is an important package in Python as a lot of other packages depend on it but interacting with the package directly is not actually that common, typically users would interact with it through the use of other packages such as Pandas or SciPy.\n",
    "\n",
    "NumPy is a specialist package dealing with multi dimensional arrays or lists within lists, it is a very efficient method to perform operations on these arrays or matrices using algorithims that have been developed during research on numerical objects over the last half century.\n",
    "\n",
    "It is common to start with a csv imported in to Numpy or in to Pandas which then uses NumPy in the background. If no csv file then you could use the Numpy.Random package to generate simulated data or arrays of numbers which follow a certian pattern.\n",
    "\n",
    "Almost any interesting computing task e.g. image compression involves matrix operations at its most basic level and therefor NumPy is essential as the most efficient method of handling these operations.\n",
    "\n",
    "\n"
   ]
  },
  {
   "cell_type": "markdown",
   "metadata": {},
   "source": [
    "Even though there are a lot of functions in the package, they all are actually variations on the basic notion of drawing values from probability distributions.\n"
   ]
  },
  {
   "cell_type": "markdown",
   "metadata": {},
   "source": [
    "## Simple Random Data Functions:\n",
    "\n",
    "The functions in \"Simple random data\" are just convenience functions for using the \"Distributions\" functions.They are straight forward and are all quite similar. These functions generate random values depending of the function selected, there are a range of functions to generate random data and I discuss three here:"
   ]
  },
  {
   "cell_type": "markdown",
   "metadata": {},
   "source": [
    "### 1. rand\n",
    "Generates random numbers on the fly, depending on what paramaetrs are entered for the amount of rows and columns.\n",
    "[0, 1) generates numbers between 0 and 1 but less than 1. The square bracket indicates including 0, the round bracket indicates not including 1. The parameters should be positive integers. \n",
    "The **rand** function uses the continuous uniform distribution as the probability distribution, which influences the chances of a value being selected within the range.\n",
    "The likelihood of any value within the limits of the range occuring is uniformly equal.\n"
   ]
  },
  {
   "cell_type": "code",
   "execution_count": 1,
   "metadata": {},
   "outputs": [],
   "source": [
    "# import numpy package in order to use numpy\n",
    "import numpy as np"
   ]
  },
  {
   "cell_type": "code",
   "execution_count": 2,
   "metadata": {
    "scrolled": true
   },
   "outputs": [
    {
     "data": {
      "text/plain": [
       "array([0.32355463, 0.47577412, 0.6846978 , 0.80921317, 0.63678647,\n",
       "       0.20455066, 0.11737108, 0.53425665])"
      ]
     },
     "execution_count": 2,
     "metadata": {},
     "output_type": "execute_result"
    }
   ],
   "source": [
    "x = np.random.rand(8)\n",
    "x\n",
    "# returns an array with 8 elements, what is in the brackets determines the shape of the array"
   ]
  },
  {
   "cell_type": "code",
   "execution_count": 3,
   "metadata": {},
   "outputs": [
    {
     "data": {
      "text/plain": [
       "array([[0.22693182, 0.30487044],\n",
       "       [0.43833422, 0.68875261],\n",
       "       [0.43106786, 0.93921179]])"
      ]
     },
     "execution_count": 3,
     "metadata": {},
     "output_type": "execute_result"
    }
   ],
   "source": [
    "np.random.rand(3,2)\n",
    "# returns a two dimensional array with 3 rows and 2 columns, or 3 arrays within an array each with two elements"
   ]
  },
  {
   "cell_type": "code",
   "execution_count": 4,
   "metadata": {},
   "outputs": [
    {
     "data": {
      "text/plain": [
       "array([[0.57281977, 0.14827171],\n",
       "       [0.52453143, 0.52729294],\n",
       "       [0.79514788, 0.19840795],\n",
       "       [0.33075353, 0.8845161 ]])"
      ]
     },
     "execution_count": 4,
     "metadata": {},
     "output_type": "execute_result"
    }
   ],
   "source": [
    "np.random.rand(4,2)\n",
    "# rerun the function, returns another array of same type but now with 4 rows and the numbers are different AND random"
   ]
  },
  {
   "cell_type": "code",
   "execution_count": 5,
   "metadata": {},
   "outputs": [
    {
     "data": {
      "text/plain": [
       "0.39515400543272505"
      ]
     },
     "execution_count": 5,
     "metadata": {},
     "output_type": "execute_result"
    }
   ],
   "source": [
    "np.random.rand()\n",
    "# pass no arguements into the array returns a single random number"
   ]
  },
  {
   "cell_type": "markdown",
   "metadata": {},
   "source": [
    "Generating a plot using matpoltlib indicating how the **rand** function generates the random numbers. This is a histogram for a continuous variable (all the values from 0 up to 1), the histogram function picks a reasonable number of bars to chop the data up in to (10 in this case) and displays a bar for each interval, e.g.0.0 to approx 0.1 shows approx 100 values on the Y axis. The **rand** function has generated 1000 numbers between 0 and up to 1, with approx. 90 to 115 values in each interval. All of the numbers between 0 and up to 1 have the same chance or probability of appearing in the randomly generated list."
   ]
  },
  {
   "cell_type": "code",
   "execution_count": 6,
   "metadata": {},
   "outputs": [
    {
     "data": {
      "image/png": "[encoded data removed]",
      "text/plain": [
       "<matplotlib.figure.Figure at 0x18d3e6b8f98>"
      ]
     },
     "metadata": {},
     "output_type": "display_data"
    }
   ],
   "source": [
    "%matplotlib inline\n",
    "import matplotlib.pyplot as plt\n",
    "x = np.random.rand(1000)\n",
    "\n",
    "plt.hist (x)\n",
    "\n",
    "plt.show()"
   ]
  },
  {
   "cell_type": "markdown",
   "metadata": {},
   "source": [
    "### 2. randn"
   ]
  },
  {
   "cell_type": "markdown",
   "metadata": {},
   "source": [
    "Generates random values for a range between 0 and 1, again including 0 but not including 1. The **randn** function uses the normal distribution as the probability distribution, which influences the chances of a value being selected within the range. See the Histogram of a Normal Distribution below. The probability is skewed so that values at the centre of the range are more likely to occur than values at the extremeties of the range (i.e. values close to the minimum and maximum of the range)."
   ]
  },
  {
   "cell_type": "code",
   "execution_count": 7,
   "metadata": {
    "scrolled": true
   },
   "outputs": [
    {
     "data": {
      "text/plain": [
       "array([-1.43914230e+00,  3.40442968e-01, -2.20197853e+00, -2.53211985e+00,\n",
       "       -5.09181624e-01, -5.84125274e-02, -1.02711707e+00, -1.44795835e-02,\n",
       "        1.68650180e-01, -7.77981108e-01,  1.23623785e-01,  5.96291170e-01,\n",
       "        4.30703684e-01,  1.16923378e-02, -3.92480169e-01, -1.01074559e+00,\n",
       "        4.61374309e-01, -5.55941742e-01,  8.65059956e-01, -2.03429904e+00,\n",
       "       -1.20593077e+00,  1.23631137e+00,  1.30756833e+00, -2.07137946e-01,\n",
       "       -9.53710058e-01, -1.35736409e+00, -2.29119435e+00,  4.73232462e-01,\n",
       "        8.59978531e-02,  5.55548697e-01, -3.30025036e-01,  9.38346038e-01,\n",
       "        7.83053323e-02,  4.68644561e-01, -1.22917406e+00, -5.38386309e-01,\n",
       "       -1.52081970e-01, -2.55240688e-01,  7.80967332e-01, -5.36312525e-01,\n",
       "        2.45414419e-01, -1.91003214e+00, -1.11581919e+00, -1.01237216e+00,\n",
       "        7.42082404e-01,  3.31012871e-01, -1.24753248e+00,  1.51837097e+00,\n",
       "        2.31310669e-01,  3.67472039e-01, -6.77373777e-01,  6.33163091e-02,\n",
       "       -5.44779822e-01,  3.70731472e-01, -1.46748200e-01, -8.87739469e-01,\n",
       "       -1.15071164e+00,  3.77088852e-01, -1.30191948e+00,  4.28571669e-01,\n",
       "       -1.77346687e+00, -1.07631408e+00, -2.41687379e-01,  1.10034823e+00,\n",
       "        1.01488906e-01,  2.14420995e-01,  5.52776065e-01,  1.69644213e-01,\n",
       "       -2.42531312e-01,  5.59049097e-01, -6.65610714e-01, -4.79319250e-01,\n",
       "       -1.81057094e-01, -1.00327336e+00,  1.58465932e+00, -1.16203373e+00,\n",
       "        5.85146735e-01,  5.23501348e-01,  3.23041265e-01,  1.59562364e+00,\n",
       "        7.04600171e-01, -9.92193620e-01,  4.55323908e-01,  1.05557163e+00,\n",
       "       -9.10516237e-01, -3.31845906e-01, -4.76580854e-01,  6.64196773e-01,\n",
       "       -8.20936936e-01, -4.12579171e-01,  9.69250247e-01, -5.67876139e-03,\n",
       "       -2.59792299e+00, -9.51971735e-01, -2.87308397e+00, -2.10446294e+00,\n",
       "       -4.11100548e-01,  4.09946166e-01,  6.02121069e-01, -3.59038770e-01,\n",
       "        3.29792010e-01,  2.60344779e-01,  1.62674574e+00, -2.08982428e+00,\n",
       "       -9.36748549e-01, -9.55334809e-01, -8.38142902e-01,  1.00798760e+00,\n",
       "       -4.40850474e-01,  1.60710404e+00,  2.90035111e-01, -4.76793621e-01,\n",
       "        3.98430677e-01, -4.26537089e-01,  2.13578164e+00, -6.76779145e-01,\n",
       "       -1.18656259e+00,  2.47201656e+00,  9.47570743e-01,  1.19872854e+00,\n",
       "       -7.69537591e-01, -8.69520383e-01, -4.05299244e-01,  3.63361285e-01,\n",
       "        7.36995814e-01,  1.01171676e+00,  1.44407388e+00, -1.19153646e+00,\n",
       "       -5.57551306e-01,  3.06263060e-01, -1.16167178e+00, -4.54473104e-01,\n",
       "        4.98404464e-01, -6.06459605e-02, -8.86761980e-01, -1.66207994e+00,\n",
       "        2.49998537e-01, -1.23599564e+00, -1.13136024e+00,  7.19842521e-01,\n",
       "       -8.15431761e-01,  3.19935633e-01, -4.14955838e-01, -6.49426145e-02,\n",
       "       -8.00959508e-01, -3.56593460e-01,  1.67117157e+00, -2.41481007e+00,\n",
       "       -1.86773515e+00, -1.17690707e-01,  4.94076234e-01, -8.04511974e-01,\n",
       "       -6.58971819e-01, -1.06457570e+00,  1.23374291e+00,  1.34241243e+00,\n",
       "        1.33532617e+00, -3.14463950e-01, -1.61744386e+00,  2.05464373e+00,\n",
       "       -1.61528714e+00,  6.24929917e-02,  1.56162805e+00, -9.39555994e-01,\n",
       "       -1.81219789e-01, -7.92349398e-01, -1.66929340e-01, -7.98048662e-01,\n",
       "        1.05714062e+00,  1.96205757e-01, -1.45102916e+00, -1.08224997e+00,\n",
       "       -1.08381197e+00, -1.16539024e+00, -1.68553508e+00, -2.04480994e+00,\n",
       "        1.13246167e+00, -3.76403967e-01,  1.34067067e+00, -1.15085558e+00,\n",
       "       -1.37328840e+00,  1.65208283e-01,  2.05935262e-02, -4.19358721e-01,\n",
       "        7.13979660e-01, -1.43401958e+00, -8.50804994e-01,  5.08936500e-01,\n",
       "        1.84096568e+00,  6.46681168e-01,  1.36352617e+00, -3.35469135e-02,\n",
       "       -7.62994845e-01, -2.97374377e-01, -7.24059859e-01,  5.29556554e-01,\n",
       "       -1.26316804e+00, -2.81099371e-01,  1.33624984e+00, -1.42217568e+00,\n",
       "        1.38528377e+00, -8.12105905e-01,  2.66018589e-01, -2.13651583e-02,\n",
       "        9.40304913e-01, -2.33130487e-01, -1.15696860e+00, -1.51215342e+00,\n",
       "        4.50011483e-02,  7.41549330e-01, -5.07509771e-01,  1.94363316e-01,\n",
       "       -1.49426270e+00,  2.02504433e+00,  1.30420477e+00, -6.19783597e-01,\n",
       "        6.19700976e-01, -7.66548433e-01,  3.63105527e-01,  2.19255871e-01,\n",
       "       -1.10582294e+00, -1.82986942e-01, -1.14251127e+00, -1.63782473e-01,\n",
       "        1.00244464e+00,  2.29872134e-01, -9.04131262e-01, -7.37142099e-01,\n",
       "       -2.75089145e-01,  9.80050453e-01, -1.05350290e+00,  1.31688059e-01,\n",
       "        1.99950421e-01, -7.98222328e-01,  1.55243159e+00, -2.70961566e-01,\n",
       "       -1.55440778e+00, -1.56770357e+00, -1.28510201e+00, -7.21681487e-01,\n",
       "       -6.03733758e-01, -1.00166060e+00, -8.08406777e-01,  1.18129018e+00,\n",
       "       -5.57578814e-01, -1.39953649e+00,  1.02918220e+00, -4.08942971e-01,\n",
       "        2.08322581e+00, -8.30131261e-01,  1.83777712e-02,  5.01142342e-01,\n",
       "        1.16343052e+00,  9.43091877e-02, -9.63623667e-01, -1.51236175e+00,\n",
       "        5.79226664e-01,  9.08944878e-01, -1.49456323e-01, -9.43033578e-01,\n",
       "       -2.27010212e-01, -2.50348657e-01,  1.34073471e+00,  7.69805787e-01,\n",
       "       -1.56225854e+00, -2.62112942e-01, -7.12291605e-01, -4.68131119e-01,\n",
       "        8.23433620e-01, -1.31305582e+00, -1.80991702e+00, -1.00034960e+00,\n",
       "       -4.23797891e-01, -1.94786217e+00,  8.91283401e-01,  3.39099086e-01,\n",
       "        4.00329562e-01,  1.90894405e+00,  1.28594114e+00,  2.84027761e+00,\n",
       "       -6.38686260e-01,  2.56753155e+00, -6.35319720e-01,  7.48714982e-01,\n",
       "        1.98774481e-01, -1.98427403e+00,  1.33385966e-02,  1.78831314e+00,\n",
       "        6.14061740e-01, -2.09942945e-01,  8.79767025e-01, -1.06090701e+00,\n",
       "       -8.77347469e-01,  3.14180514e-01, -2.62177946e-01,  1.33331568e+00,\n",
       "       -7.13734995e-01,  1.33579418e+00, -1.46538837e+00,  7.25345153e-03,\n",
       "        2.42328557e-01, -3.61054142e-01,  3.36710308e-01, -2.35478968e-02,\n",
       "        4.20521883e-01,  1.40958984e+00,  4.70601028e-01,  3.56606673e-01,\n",
       "        6.40869954e-01,  1.99415030e-01,  4.09034474e-01, -8.67580301e-02,\n",
       "       -5.37331011e-01, -1.63282773e-01,  1.49558430e+00,  7.55123412e-01,\n",
       "       -9.00766396e-01,  4.52179120e-02, -3.79857783e-01,  1.75067364e+00,\n",
       "       -4.12304544e-01, -5.62199735e-01,  7.46074576e-01, -3.44689886e-01,\n",
       "       -6.95610240e-01,  2.04717821e+00,  1.04390289e+00,  2.22243799e+00,\n",
       "       -1.23992513e+00,  1.23467819e-01, -8.62500688e-01,  7.67001000e-01,\n",
       "       -1.28284743e+00, -8.04929306e-01,  3.07364379e+00,  2.38756072e-01,\n",
       "       -2.42673483e-01, -2.25731889e-01,  9.92480737e-01, -8.12471162e-01,\n",
       "       -7.61758522e-01,  1.94030251e-01, -5.99127000e-01,  2.84201273e-01,\n",
       "       -6.62199813e-01, -1.14389931e+00,  2.61466775e-01, -1.84297287e+00,\n",
       "       -1.17709638e+00, -3.58843250e-01, -2.93203462e-01,  1.70786648e+00,\n",
       "        5.31835782e-01, -1.12525216e+00, -1.13084031e+00,  1.38508722e+00,\n",
       "       -6.58467266e-01,  7.95086101e-01, -1.43936928e+00, -1.22326913e+00,\n",
       "       -7.39189030e-01,  3.54752412e-02, -3.43792616e-01,  9.73649141e-01,\n",
       "        8.38685855e-01, -5.58676423e-01,  3.09406799e-01, -1.22340663e+00,\n",
       "        2.96436995e-01, -6.27270421e-01,  2.43015055e-01,  2.20365735e+00,\n",
       "       -6.37056124e-02,  1.26521523e-01, -1.23184784e-02,  3.51716223e-01,\n",
       "        1.61266813e+00,  4.63690313e-01,  5.21671997e-01,  1.26139696e+00,\n",
       "       -1.76846277e+00, -6.56283521e-01,  8.39156663e-01,  4.04460151e-01,\n",
       "       -1.23625517e+00,  1.62664920e+00, -3.69792065e-01, -1.03278373e+00,\n",
       "        1.94192567e-01, -2.13073244e+00,  1.16988458e+00,  1.28877223e-01,\n",
       "       -6.37611106e-01, -2.38669719e+00,  1.87920974e-01, -5.90997944e-01,\n",
       "       -4.65586290e-02, -1.49524513e+00, -5.30045621e-01,  9.73210364e-01,\n",
       "       -1.28238373e+00,  2.40810214e-01,  3.07422201e-01,  1.47167969e+00,\n",
       "        1.87734231e-01, -3.93133015e-01, -4.43241345e-01,  3.21381540e-01,\n",
       "       -5.26309470e-01,  1.05089884e+00, -6.59551907e-01,  1.45637916e-01,\n",
       "       -4.09545440e-01, -1.43068663e+00,  1.70286568e+00,  1.44847374e+00,\n",
       "       -2.69636753e+00, -3.53192557e-02,  3.79793033e-01, -1.55665128e+00,\n",
       "       -1.30724432e+00, -2.33638928e-02, -1.39873951e+00,  1.19680981e+00,\n",
       "       -1.34615693e+00, -1.42449466e+00,  6.00040365e-01,  6.67433995e-01,\n",
       "       -1.03440833e+00, -3.19269464e-01, -2.55210769e+00, -1.61044995e-01,\n",
       "        8.65617017e-01, -5.22466868e-01,  5.88578208e-01, -2.62230567e+00,\n",
       "       -7.83486616e-01, -1.61996391e+00, -4.21272157e-01, -1.72849993e+00,\n",
       "        7.01888308e-01, -6.91581412e-01, -7.49051769e-01, -3.11765685e-02,\n",
       "        2.54076618e+00, -3.64037635e-01, -7.19820463e-01,  6.67534962e-01,\n",
       "        5.28657111e-01, -6.93452972e-01, -1.13569080e+00,  2.04243204e-01,\n",
       "       -5.16001060e-03,  3.99568856e-01,  6.78496627e-01, -5.37121603e-01,\n",
       "       -1.09039965e-01, -1.73403861e+00, -1.56708004e+00,  8.14622884e-01,\n",
       "        2.16326753e-01,  7.89168833e-01, -3.27085564e-01,  4.61358019e-01,\n",
       "       -1.83653710e+00,  9.64539180e-01,  3.10982357e-01,  4.01972267e-01,\n",
       "        2.39475708e-01, -2.69915084e+00,  7.91032961e-01,  4.86664130e-01,\n",
       "       -1.03474122e+00, -4.73912750e-01, -9.83493003e-01,  1.09711885e-01,\n",
       "        2.16266089e+00,  1.10976690e+00,  1.60058458e+00, -5.26281076e-01,\n",
       "        1.30536070e+00, -7.60769059e-01,  7.82225370e-02, -3.45966974e-01,\n",
       "       -1.26687409e+00,  1.77459648e-01,  1.32587361e+00, -8.14035841e-01,\n",
       "       -6.46970309e-01,  3.33001820e-01,  2.58803525e-01,  5.53785325e-02,\n",
       "        1.58867906e+00,  4.88057412e-01, -6.29841824e-01, -1.29350491e+00,\n",
       "        1.78405182e-01, -9.20765857e-01, -5.02625621e-01,  6.02291644e-01,\n",
       "        3.66806660e-03,  3.44101762e-01, -2.36242809e-01, -9.92021480e-02,\n",
       "        1.25086016e+00,  4.27224700e-01, -1.42443117e+00,  3.25922589e-01,\n",
       "       -1.19121288e+00,  4.02077170e-01,  7.05933588e-01,  1.86306579e-01,\n",
       "        3.31483762e-01, -1.83073541e-01,  7.17179728e-01, -8.84101801e-02,\n",
       "       -1.34777682e+00,  9.02079467e-01, -1.15191260e+00, -2.08773821e-01,\n",
       "        1.06609824e+00, -8.24213030e-01, -8.67565122e-01,  9.72263242e-03,\n",
       "       -1.87107942e+00, -1.48194434e+00, -4.01821012e-01, -1.17006916e+00,\n",
       "        3.13003081e-01,  2.13436538e+00, -7.96955380e-01, -2.06674793e-01,\n",
       "        1.31614673e+00,  9.18622908e-01,  6.11440467e-01, -7.25520591e-01,\n",
       "        5.96493077e-01,  8.27334645e-01,  1.80445914e-02, -4.36662339e-02,\n",
       "       -3.64656086e-01, -2.01693858e+00,  1.37088163e+00, -2.51185560e-01,\n",
       "       -5.20533676e-01,  6.69463254e-01, -1.14084303e+00, -1.64524047e+00,\n",
       "        1.47781723e+00, -3.62259356e-01,  1.27369843e+00, -1.10001372e+00,\n",
       "        2.38697179e+00,  9.32468956e-01,  5.14138052e-01,  2.71361268e+00,\n",
       "       -7.12964037e-01, -9.53545575e-01,  1.47043140e+00, -4.85500652e-01,\n",
       "       -7.18704797e-01, -1.55085577e+00,  1.24978812e-01, -3.79760986e-02,\n",
       "       -3.24957441e-01,  1.30664690e+00,  5.16433138e-01, -1.35828157e+00,\n",
       "       -4.52639685e-01, -1.39756715e+00, -1.51184309e+00,  2.34134120e-01,\n",
       "        1.26398362e+00,  1.49438590e-01,  7.56472764e-01, -1.66582106e-01,\n",
       "       -3.18423710e-02, -8.86694717e-01, -9.15247418e-01, -1.79657662e-02,\n",
       "        2.11459740e+00,  6.12155468e-01, -2.28132857e-01,  1.40829176e+00,\n",
       "        3.65071970e-01, -8.26128407e-01,  4.03164648e-01,  3.68207360e-01,\n",
       "        4.72698076e-01, -1.63549582e+00, -1.64609222e-01,  9.49003635e-02,\n",
       "        5.60881574e-01, -2.33416154e-01,  5.44341882e-01, -5.35629971e-02,\n",
       "        3.94394501e-01,  4.10612325e-01, -8.12791815e-01,  2.62484381e-01,\n",
       "        1.35005594e+00, -7.05511414e-01,  1.16544501e+00,  4.60831453e-01,\n",
       "        1.43273778e+00,  8.69922322e-01,  2.07798021e+00,  3.72819438e-01,\n",
       "        2.86608789e-01, -1.18484005e-01, -2.52766006e+00,  1.15037177e-02,\n",
       "        1.63734944e+00, -1.77713056e+00, -1.31093253e+00, -1.43217392e+00,\n",
       "       -1.97900258e-01, -6.94274125e-01, -4.08115791e-01, -1.32202406e+00,\n",
       "        1.45342005e+00, -1.88670725e+00,  3.08873554e-01, -8.10602762e-01,\n",
       "        7.69696385e-02,  2.46322312e+00, -1.37360914e+00, -2.05245036e-02,\n",
       "       -6.27637362e-01, -1.08758571e+00,  6.15060841e-01,  6.96011073e-01,\n",
       "        1.11739194e+00, -1.15484119e+00, -8.16609119e-01, -1.86595869e+00,\n",
       "        1.65980084e+00,  6.48961717e-01, -4.84126580e-01,  1.19319669e+00,\n",
       "        5.55606017e-01, -1.38864432e+00, -7.53840991e-01, -9.16126053e-01,\n",
       "        4.88795073e-01, -6.35982266e-01, -6.28402646e-03,  1.24865697e+00,\n",
       "       -5.76285466e-01, -3.69951345e-01, -5.26099086e-01,  9.46848779e-01,\n",
       "        1.69109557e-01, -2.27666673e+00, -1.33773150e+00, -6.02020045e-01,\n",
       "        7.34741338e-01, -3.88145072e-01,  1.56639620e+00, -9.30850634e-01,\n",
       "        8.11345805e-01,  1.12106800e+00, -3.41674208e-01,  7.80419438e-01,\n",
       "        5.52488255e-02,  1.47534778e-01,  3.48498436e-01, -8.53170143e-01,\n",
       "        1.44407036e+00,  1.82487783e-01, -3.90195126e-01,  6.85562381e-01,\n",
       "        9.29252872e-01, -4.36763298e-01,  1.21254094e+00,  2.11706057e+00,\n",
       "       -1.00247936e+00, -9.72705297e-01,  3.97828420e-01, -1.03871735e+00,\n",
       "        7.30392998e-01,  3.03864385e-01,  3.94297872e-02,  4.74254459e-01,\n",
       "        4.22190487e-01, -3.24919815e-01, -1.36994253e-01, -4.32260995e-01,\n",
       "        9.59602631e-01,  5.93401098e-01, -9.93895087e-01, -5.81143281e-01,\n",
       "        2.37395025e-01, -2.73488048e-01, -7.50740382e-01,  1.20212381e+00,\n",
       "       -3.56749743e-01, -1.70326800e+00,  7.41173310e-02,  1.70682063e+00,\n",
       "        1.32510755e-01,  1.17949232e+00, -1.30784724e+00,  1.49499183e+00,\n",
       "        5.28811757e-01, -6.25773287e-01,  1.64783708e+00, -5.90869114e-01,\n",
       "        1.12983911e+00,  8.19162109e-02,  3.49120264e-01, -7.81736483e-01,\n",
       "       -1.41021409e+00, -1.91601573e+00,  1.68759454e-01, -1.55885075e+00,\n",
       "        1.06413857e-01,  3.90460176e-01, -4.42733609e-01,  5.31822245e-01,\n",
       "        3.44227955e-01, -5.37541481e-01,  4.35872238e-01, -8.45194034e-01,\n",
       "        1.85908796e+00,  1.08104593e+00,  1.80621620e+00, -1.43086413e+00,\n",
       "        2.44667035e-01, -9.65063369e-01, -6.28457472e-01,  4.88146501e-01,\n",
       "       -1.64484939e+00,  1.33050502e+00, -7.84781282e-01, -8.14482774e-01,\n",
       "       -1.27490842e+00,  1.09925644e+00, -1.83222047e+00, -9.12112169e-01,\n",
       "        3.54895818e-01, -1.84304204e+00, -9.89703313e-02, -9.53816884e-01,\n",
       "       -4.42261029e-01,  6.60703536e-02,  1.16521274e+00,  7.64125055e-01,\n",
       "       -3.18073379e-01,  1.10707378e+00,  7.07612394e-02,  3.01429464e+00,\n",
       "        9.99771270e-01,  3.01574421e-01, -3.85144468e-01,  2.71916610e-01,\n",
       "        1.95680947e-01,  2.28617601e-01,  1.48018002e+00, -2.42542316e-01,\n",
       "        4.08788113e-01,  2.58631935e-01, -1.76054038e+00,  7.20037336e-01,\n",
       "       -2.12401049e-01,  3.85410073e-01,  4.26737151e-02, -1.29218904e+00,\n",
       "        2.97147181e-01, -8.42592632e-01,  8.29268682e-01, -3.98988425e-01,\n",
       "       -3.89430219e-01,  5.77860259e-01, -2.76331255e-01,  5.78163192e-01,\n",
       "       -4.02588369e-01,  9.49132470e-01, -5.92101350e-02, -2.29609165e+00,\n",
       "        1.07725654e+00,  1.17692558e+00, -8.12141920e-01, -1.37942118e+00,\n",
       "       -1.23219401e+00, -1.01309127e+00, -9.55866411e-03,  1.84885275e-01,\n",
       "       -5.14173119e-01,  8.60573547e-01, -2.44969138e-01, -1.63584163e+00,\n",
       "        5.46946626e-01,  4.14287917e-01, -5.41212760e-01, -1.24085130e+00,\n",
       "       -9.03037669e-01,  5.80459624e-01, -6.65166381e-01,  3.92579412e-02,\n",
       "        1.05389249e+00, -9.87101179e-01, -1.06735853e+00,  5.64539143e-01,\n",
       "        9.12609187e-01,  1.00305788e+00,  1.85088918e+00,  1.54035434e+00,\n",
       "       -2.25733579e-01,  7.67458866e-02, -5.89722706e-01, -2.73741239e+00,\n",
       "       -7.88861859e-01,  9.51803249e-01,  7.00071109e-02, -2.68662016e-01,\n",
       "        5.81070769e-01,  1.44020660e-01,  9.28685029e-01, -2.85384208e-01,\n",
       "        1.05124075e+00,  8.53182104e-01,  4.33802280e-01, -8.29230878e-01,\n",
       "        5.62829606e-01,  1.90185908e+00, -4.41915478e-01,  5.74341201e-02,\n",
       "       -3.99814446e-01, -3.41049380e-01, -1.67804644e-01, -1.95431289e+00,\n",
       "       -4.40476217e-01, -5.27526226e-01, -8.26053383e-01,  3.25740396e+00,\n",
       "        7.39995044e-01, -6.67626662e-02,  1.59002547e+00, -8.18015970e-01,\n",
       "       -1.72920482e+00, -1.99521050e-01,  4.73354353e-01, -1.09272601e+00,\n",
       "       -1.07077219e+00, -8.38647268e-01, -2.21942912e+00,  4.77370267e-01,\n",
       "       -8.15198496e-01, -2.15322616e-01,  4.75729467e-01,  3.35911215e-01,\n",
       "       -2.44569165e+00,  5.17884287e-02, -6.59031320e-01, -1.64683277e+00,\n",
       "       -2.06286213e-01,  1.23052372e+00,  2.45017172e-01, -1.88785380e+00,\n",
       "        9.86963694e-01,  8.45630245e-01, -1.10666835e-01,  4.57224922e-01,\n",
       "        1.20376862e+00, -1.10055541e-01, -6.57372946e-01, -4.52092424e-01,\n",
       "       -1.79360189e-01,  7.82990377e-02,  1.45612720e+00,  1.63068000e-01,\n",
       "       -1.33638877e-01,  3.84887383e-01,  3.28328847e-01,  7.46224784e-02,\n",
       "       -1.32812814e+00, -9.62629325e-01, -1.35087523e+00, -2.06939346e-01,\n",
       "       -4.99806108e-01, -7.28963971e-01, -9.37121678e-01, -1.78209060e+00,\n",
       "        7.48315430e-02,  8.06329589e-01, -7.28177652e-01, -6.24961711e-01,\n",
       "        2.60970999e-01,  5.11651702e-01, -4.57073971e-02, -1.69580198e-01,\n",
       "        7.45696514e-02,  2.08345451e-01,  6.81365895e-01, -6.78240777e-01,\n",
       "        5.31724459e-01,  1.06616950e-02, -1.68545912e+00, -8.98151886e-02,\n",
       "       -1.42471248e+00,  1.20635505e-02,  6.07744051e-01,  6.78718365e-01,\n",
       "       -1.39008506e+00, -1.71015760e+00,  1.28909959e+00,  1.05704610e+00,\n",
       "        1.57411836e-01,  2.14776938e+00,  8.42231751e-01,  5.02615421e-01,\n",
       "       -5.79541491e-01,  1.93450422e+00,  1.14530048e+00, -3.35639825e-01,\n",
       "       -1.45805100e+00, -1.76108418e-01,  6.06877531e-01, -1.39686413e-01,\n",
       "        1.56962816e+00,  2.33981053e+00, -1.37997880e+00,  1.09962565e+00,\n",
       "       -1.26707759e-01, -5.73549917e-01,  1.46569994e+00, -5.35894196e-01,\n",
       "        9.53226726e-02,  1.58121462e+00,  7.07034875e-01,  9.30795933e-01,\n",
       "        1.51782968e-01, -5.81625369e-01,  1.39184481e-01, -5.53588750e-01,\n",
       "       -1.38855811e+00,  8.10476115e-01,  7.96255300e-01, -9.74915226e-01,\n",
       "       -3.50714734e-01,  1.27843765e+00,  5.14187066e-01, -3.67526261e-01,\n",
       "       -1.14170975e+00, -1.21799824e+00, -5.05028861e-01, -9.96285614e-01,\n",
       "       -2.01689605e+00,  4.82623731e-01,  1.04603568e+00, -3.90188867e-01,\n",
       "        1.08826874e-01,  7.41131014e-01, -2.20749084e-01,  4.48105763e-01,\n",
       "       -8.79044967e-01,  1.04293390e-03, -1.23038603e-01, -7.78666845e-01,\n",
       "        8.60555628e-01,  4.36193114e-03, -2.03734893e+00, -1.26187912e+00,\n",
       "        6.68849500e-01,  1.77211711e+00,  6.24314642e-01, -1.71488893e+00,\n",
       "        1.04109015e+00, -2.40883859e+00,  9.51511445e-01, -5.34230473e-01,\n",
       "       -2.27055283e+00,  1.85151689e+00, -5.43906759e-02,  7.20002109e-01,\n",
       "       -1.30079741e+00,  1.55482561e+00,  1.78330460e+00,  1.51726071e+00,\n",
       "       -1.42394424e+00, -1.61099180e-01, -9.75905660e-01,  1.72573483e+00,\n",
       "       -2.35498535e-02,  3.28992765e-01,  7.48422029e-01,  6.34111566e-01,\n",
       "        9.06280079e-01, -5.03794528e-01,  1.13329182e+00, -7.36974990e-01,\n",
       "       -1.38360388e+00,  9.15178151e-03,  4.49052566e-02, -6.58742637e-01,\n",
       "       -3.20656132e-01,  1.00850404e+00,  1.61762785e+00,  5.35043373e-01])"
      ]
     },
     "execution_count": 7,
     "metadata": {},
     "output_type": "execute_result"
    }
   ],
   "source": [
    "import numpy as np\n",
    "np.random.randn(1000)"
   ]
  },
  {
   "cell_type": "code",
   "execution_count": 8,
   "metadata": {},
   "outputs": [
    {
     "data": {
      "image/png": "[encoded data removed]",
      "text/plain": [
       "<matplotlib.figure.Figure at 0x18d3f32fc50>"
      ]
     },
     "metadata": {},
     "output_type": "display_data"
    }
   ],
   "source": [
    "%matplotlib inline\n",
    "import matplotlib.pyplot as plt\n",
    "x = np.random.randn(1000)\n",
    "\n",
    "plt.hist (x)\n",
    "\n",
    "plt.show()"
   ]
  },
  {
   "cell_type": "markdown",
   "metadata": {},
   "source": [
    "### 3. randint"
   ]
  },
  {
   "cell_type": "markdown",
   "metadata": {},
   "source": [
    "Generates random values of integers for a user defined range, for a user defined number of samples. \n",
    "The **randint** function uses the discrete uniform distribution as the probability distribution with all possible outcomes of the specified range equally likely to occur; Or a known, finite number of outcomes equally likely to happen. \n",
    "This function will not return any float values only integers. See the image below of a discrete uniform distribution, the values in the distribution are points, this is what makes the distribution \"discrete\". If the high paramaneter is excluded then the integer argument parameter is one above the largest integer to be drawn form the distribution e.g. below, 10 is the argument meaning the range is between 0 and 9 inclusive.\n"
   ]
  },
  {
   "cell_type": "code",
   "execution_count": 9,
   "metadata": {},
   "outputs": [
    {
     "data": {
      "text/plain": [
       "array([0, 5, 0, 8, 9, 6, 3, 3, 1, 6, 3, 1, 6, 9, 4, 3, 6, 9, 4, 5, 4, 5,\n",
       "       5, 1, 1, 5, 2, 7, 2, 5, 4, 4, 5, 3, 5, 5, 0, 6, 1, 8, 6, 2, 7, 4,\n",
       "       3, 3, 3, 1, 1, 2, 3, 8, 0, 8, 7, 9, 6, 6, 2, 1, 9, 3, 7, 2, 2, 3,\n",
       "       7, 1, 9, 7, 0, 9, 5, 4, 9, 2, 9, 6, 4, 6, 1, 2, 0, 9, 1, 5, 9, 8,\n",
       "       1, 0, 9, 4, 7, 1, 8, 7, 2, 2, 6, 4])"
      ]
     },
     "execution_count": 9,
     "metadata": {},
     "output_type": "execute_result"
    }
   ],
   "source": [
    "# generates an array between 0 and 9 with a size of 100\n",
    "import numpy as np\n",
    "np.random.randint(10, size=100)           "
   ]
  },
  {
   "cell_type": "code",
   "execution_count": 10,
   "metadata": {},
   "outputs": [
    {
     "data": {
      "image/png": "[encoded data removed]",
      "text/plain": [
       "<matplotlib.figure.Figure at 0x18d3f45d160>"
      ]
     },
     "metadata": {},
     "output_type": "display_data"
    }
   ],
   "source": [
    "%matplotlib inline\n",
    "import matplotlib.pyplot as plt\n",
    "x = np.random.randint(10, size=100)\n",
    "\n",
    "plt.hist (x)\n",
    "\n",
    "plt.show()"
   ]
  },
  {
   "cell_type": "markdown",
   "metadata": {},
   "source": [
    "## Permutations Functions:\n",
    "Shuffle and permutation both generate random numbers; the shuffle function changes the order of a given set of inputs; and the permutation function creates a random sequence of numbers given an input length."
   ]
  },
  {
   "cell_type": "markdown",
   "metadata": {},
   "source": [
    "### 1. Shuffle"
   ]
  },
  {
   "cell_type": "markdown",
   "metadata": {},
   "source": [
    "Will not change the contents of an array, it only shuffles the contents so only the order of the array is changed."
   ]
  },
  {
   "cell_type": "code",
   "execution_count": 11,
   "metadata": {},
   "outputs": [
    {
     "data": {
      "text/plain": [
       "array([[0.6346717 , 0.82692942, 0.05067965],\n",
       "       [0.41904626, 0.57705121, 0.79122625],\n",
       "       [0.44226133, 0.46607143, 0.12627712],\n",
       "       [0.41279875, 0.94907987, 0.64827702],\n",
       "       [0.36914546, 0.92383598, 0.18427912]])"
      ]
     },
     "execution_count": 11,
     "metadata": {},
     "output_type": "execute_result"
    }
   ],
   "source": [
    "# Shuffle function, only shuffles the array along the first axis of a multi-dimensional array. \n",
    "# The order of sub-arrays is changed but their contents remains the same.\n",
    "\n",
    "shf = np.random.rand(5, 3)\n",
    "shf"
   ]
  },
  {
   "cell_type": "code",
   "execution_count": 12,
   "metadata": {},
   "outputs": [
    {
     "data": {
      "text/plain": [
       "array([[0.41279875, 0.94907987, 0.64827702],\n",
       "       [0.6346717 , 0.82692942, 0.05067965],\n",
       "       [0.44226133, 0.46607143, 0.12627712],\n",
       "       [0.41904626, 0.57705121, 0.79122625],\n",
       "       [0.36914546, 0.92383598, 0.18427912]])"
      ]
     },
     "execution_count": 12,
     "metadata": {},
     "output_type": "execute_result"
    }
   ],
   "source": [
    "np.random.shuffle (shf)\n",
    "shf"
   ]
  },
  {
   "cell_type": "markdown",
   "metadata": {},
   "source": [
    "### 2. Permutation"
   ]
  },
  {
   "cell_type": "markdown",
   "metadata": {},
   "source": [
    "Randomly permutes a sequence, or returns a permuted range."
   ]
  },
  {
   "cell_type": "code",
   "execution_count": 13,
   "metadata": {},
   "outputs": [
    {
     "data": {
      "text/plain": [
       "array([22, 10, 25, 14, 21, 23, 16, 20, 19,  8,  5,  2, 24, 26, 12, 11, 17,\n",
       "        0, 18,  4, 28,  6,  7, 27, 13, 15,  1,  3,  9, 29])"
      ]
     },
     "execution_count": 13,
     "metadata": {},
     "output_type": "execute_result"
    }
   ],
   "source": [
    "# creates an array from 0 up to 29\n",
    "np.random.permutation(30)"
   ]
  },
  {
   "cell_type": "code",
   "execution_count": 14,
   "metadata": {},
   "outputs": [
    {
     "data": {
      "text/plain": [
       "array([12,  1,  4,  9, 15])"
      ]
     },
     "execution_count": 14,
     "metadata": {},
     "output_type": "execute_result"
    }
   ],
   "source": [
    "# creates an array from a given array, copies the original array an drandomly shuffles the elements\n",
    "np.random.permutation([1, 4, 9, 12, 15])"
   ]
  },
  {
   "cell_type": "code",
   "execution_count": 15,
   "metadata": {},
   "outputs": [
    {
     "data": {
      "text/plain": [
       "array([15,  1,  9, 12,  4])"
      ]
     },
     "execution_count": 15,
     "metadata": {},
     "output_type": "execute_result"
    }
   ],
   "source": [
    "# creates an array from the same given array, and copies the original array and randomly shuffles the elements\n",
    "np.random.permutation([1, 4, 9, 12, 15])"
   ]
  },
  {
   "cell_type": "code",
   "execution_count": 16,
   "metadata": {},
   "outputs": [
    {
     "data": {
      "text/plain": [
       "array([[3, 4, 5],\n",
       "       [0, 1, 2],\n",
       "       [6, 7, 8]])"
      ]
     },
     "execution_count": 16,
     "metadata": {},
     "output_type": "execute_result"
    }
   ],
   "source": [
    "# If the array is a multi-dimensional array, it is only shuffled along its first index\n",
    "arr = np.arange(9).reshape((3, 3))\n",
    "np.random.permutation(arr)"
   ]
  },
  {
   "cell_type": "markdown",
   "metadata": {},
   "source": [
    "## Distributions Section:\n",
    "\n",
    "Here we find a collection of probability distributions with varying functions, a probability distribution is a table or an equation that links each outcome of a statistical experiment with its probability of occurrence. That is, it provides the probabilities of occurrence of different possible outcomes of any given experiment [2]."
   ]
  },
  {
   "cell_type": "markdown",
   "metadata": {},
   "source": [
    "## 1. Uniform Distribution "
   ]
  },
  {
   "cell_type": "markdown",
   "metadata": {},
   "source": [
    "Sometimes also known as a rectangular distribution, is a distribution that has constant probability with the first number being the lower boundary, second number is the upper boundary with the third number being the size of the array. Very similar to rand ( which only works between 0 and 1), uniform gives random numbers in any interval again with lower boundary included and upper boundary excluded and with these boundaries being interchangeable i.e. having a higher number in the \"lower\" position will not break the function it just switches them around."
   ]
  },
  {
   "cell_type": "code",
   "execution_count": 17,
   "metadata": {},
   "outputs": [
    {
     "data": {
      "text/plain": [
       "array([ 6.69865525,  1.72239197,  5.19837628,  3.84375851,  0.06131283,\n",
       "        2.39943147,  5.11528151, -0.19219979,  4.55231405, -0.78965648,\n",
       "        7.73490418,  5.36993493,  1.15732583,  4.48031366,  2.9450194 ,\n",
       "        1.72229786,  7.40267263,  5.54905743,  0.18025259,  1.45508636,\n",
       "        2.98842352,  7.60350452,  5.82809297,  7.41269593,  2.30878594,\n",
       "        5.37675406,  5.03200965,  3.75794288,  6.4644795 , -0.87645463,\n",
       "        0.30679946,  3.93719323,  2.13037502,  5.53663219,  0.56070757,\n",
       "        3.53677046,  4.05343048,  3.65999555, -0.59799155,  7.34190016,\n",
       "        3.4655842 ,  3.08700769,  3.98053461,  8.78575373, -0.6227023 ,\n",
       "        2.88295312,  6.23471788,  0.91076585,  2.80164749,  4.68211164])"
      ]
     },
     "execution_count": 17,
     "metadata": {},
     "output_type": "execute_result"
    }
   ],
   "source": [
    "x = np.random.uniform(-1, 9, 50)\n",
    "x"
   ]
  },
  {
   "cell_type": "markdown",
   "metadata": {},
   "source": [
    "Again we can generate a plot using matpoltlib indicating how the **uniform** function generates the random numbers. This is a histogram for a continuous variable (50 random values from -1 up to 9). The **uniform** function has generated 50 numbers between -1 and up to 9. The Hist function has again chopped this into 10 intervals with all of the numbers between -1 and up to 9 have the same chance or probability of appearing in the randomly generated list."
   ]
  },
  {
   "cell_type": "code",
   "execution_count": 18,
   "metadata": {},
   "outputs": [
    {
     "data": {
      "image/png": "[encoded data removed]",
      "text/plain": [
       "<matplotlib.figure.Figure at 0x18d3f3a3a20>"
      ]
     },
     "metadata": {},
     "output_type": "display_data"
    }
   ],
   "source": [
    "%matplotlib inline\n",
    "import matplotlib.pyplot as plt\n",
    "x = np.random.uniform(-1, 9, 50)\n",
    "\n",
    "plt.hist (x)\n",
    "plt.title('Uniform distribution')\n",
    "\n",
    "plt.show()"
   ]
  },
  {
   "cell_type": "markdown",
   "metadata": {},
   "source": [
    "\n",
    "\n"
   ]
  },
  {
   "cell_type": "markdown",
   "metadata": {},
   "source": [
    "## 2. Normal distribution\n",
    "The probability density function of the **normal** (Gaussian) distribution, first derived by De Moivre and 200 years later by both Gauss and Laplace independently [2], is often called the bell curve because of its characteristic shape (see the example below). The normal distributions often occur in the natural world e.g. weight and height of mammals."
   ]
  },
  {
   "cell_type": "code",
   "execution_count": 19,
   "metadata": {
    "scrolled": true
   },
   "outputs": [
    {
     "data": {
      "text/plain": [
       "array([ 0.07623603,  0.20941996,  0.15645859, ..., -0.03748726,\n",
       "       -0.00991227,  0.05954452])"
      ]
     },
     "execution_count": 19,
     "metadata": {},
     "output_type": "execute_result"
    }
   ],
   "source": [
    "x = np.random.normal(0, 0.1, 2000)\n",
    "x\n"
   ]
  },
  {
   "cell_type": "markdown",
   "metadata": {},
   "source": [
    "A way of generating numbers randomly, with values centered around the mean of the distribution (0 in this case), huge proportion 90% of the values are within 3 times the standard deviation number given (or the 'spread' 0.1 in this case); with the third number being the size of the array.\n",
    "Again using our Histogram plot below we can see the bell shaped curve with the distribution centered around the mean."
   ]
  },
  {
   "cell_type": "code",
   "execution_count": 20,
   "metadata": {},
   "outputs": [
    {
     "data": {
      "image/png": "[encoded data removed]",
      "text/plain": [
       "<matplotlib.figure.Figure at 0x18d3f56bf28>"
      ]
     },
     "metadata": {},
     "output_type": "display_data"
    }
   ],
   "source": [
    "%matplotlib inline\n",
    "import matplotlib.pyplot as plt\n",
    "x = np.random.normal(0, 0.1, 2000)\n",
    "\n",
    "plt.hist (x)\n",
    "plt.title('Normal distribution')\n",
    "\n",
    "plt.show()"
   ]
  },
  {
   "cell_type": "markdown",
   "metadata": {},
   "source": [
    "## 3. Binomial distribution"
   ]
  },
  {
   "cell_type": "markdown",
   "metadata": {},
   "source": [
    "Is a probability distribution that links each outcome of a statistical experiment with its probability of occurrence. It provides the probabilities of occurrence of different possible outcomes of any given experiment [4].\n",
    "\n",
    "An example is when you flip a coin, there are two possible outcomes: heads and tails. Each outcome has a fixed probability, the same from trial to trial. In the case of coins, heads and tails each have the same probability of 1/2 or 0.50."
   ]
  },
  {
   "cell_type": "code",
   "execution_count": 21,
   "metadata": {
    "scrolled": true
   },
   "outputs": [
    {
     "data": {
      "text/plain": [
       "array([1, 2, 2, 3, 1, 2, 2, 3, 3, 1, 1, 4, 2, 3, 3, 3, 3, 1, 3, 2, 1, 4,\n",
       "       3, 3, 1, 2, 3, 2, 4, 4, 3, 3, 1, 2, 2, 3, 2, 1, 2, 1, 2, 3, 4, 3,\n",
       "       2, 1, 3, 2, 1, 2, 1, 2, 2, 1, 2, 2, 1, 4, 1, 3, 0, 1, 2, 0, 2, 2,\n",
       "       2, 3, 3, 3, 3, 3, 1, 1, 4, 1, 2, 0, 2, 3, 1, 2, 0, 3, 3, 1, 1, 2,\n",
       "       1, 1, 3, 1, 1, 2, 1, 2, 1, 2, 1, 2, 1, 2, 1, 1, 4, 2, 2, 1, 3, 0,\n",
       "       1, 2, 2, 1, 2, 1, 2, 3, 2, 2, 1, 1, 1, 2, 1, 3, 2, 2, 4, 2, 4, 3,\n",
       "       0, 1, 0, 3, 1, 3, 1, 4, 1, 2, 3, 0, 1, 3, 3, 1, 2, 1, 2, 1, 1, 3,\n",
       "       3, 1, 2, 2, 0, 2, 2, 2, 2, 1, 1, 2, 2, 3, 2, 2, 4, 2, 2, 4, 3, 1,\n",
       "       1, 2, 3, 2, 3, 3, 4, 1, 2, 2, 2, 4, 2, 3, 1, 3, 1, 2, 1, 3, 3, 3,\n",
       "       2, 2, 1, 1, 3, 2, 2, 2, 1, 3, 2, 2, 1, 2, 2, 1, 4, 2, 1, 3, 1, 0,\n",
       "       2, 2, 3, 1, 2, 2, 2, 4, 2, 2, 1, 2, 1, 3, 3, 1, 1, 3, 4, 3, 1, 0,\n",
       "       3, 4, 2, 1, 1, 3, 2, 2, 3, 1, 1, 3, 1, 2, 1, 4, 3, 0, 0, 0, 2, 2,\n",
       "       1, 1, 0, 2, 0, 2, 3, 1, 1, 3, 2, 3, 3, 0, 1, 1, 2, 1, 1, 3, 0, 3,\n",
       "       1, 3, 1, 1, 1, 1, 3, 2, 2, 3, 3, 1, 4, 1, 1, 3, 2, 1, 3, 2, 3, 1,\n",
       "       2, 3, 2, 2, 1, 2, 1, 2, 2, 2, 0, 3, 4, 4, 1, 3, 2, 3, 2, 3, 2, 1,\n",
       "       3, 2, 4, 2, 3, 3, 2, 3, 2, 3, 3, 3, 2, 1, 2, 2, 3, 2, 1, 2, 2, 2,\n",
       "       1, 3, 3, 1, 3, 2, 2, 3, 3, 1, 4, 2, 4, 3, 2, 2, 2, 3, 2, 2, 3, 1,\n",
       "       2, 2, 1, 1, 1, 2, 2, 2, 2, 3, 1, 2, 3, 1, 2, 2, 2, 1, 3, 0, 4, 3,\n",
       "       1, 2, 1, 2, 3, 3, 1, 3, 3, 2, 1, 1, 0, 2, 1, 3, 2, 2, 0, 3, 1, 2,\n",
       "       2, 2, 0, 1, 2, 3, 2, 2, 2, 3, 2, 1, 1, 2, 1, 4, 2, 2, 2, 3, 2, 1,\n",
       "       1, 1, 2, 1, 3, 4, 1, 3, 1, 2, 3, 3, 2, 3, 3, 1, 4, 2, 2, 2, 2, 3,\n",
       "       2, 3, 2, 3, 2, 1, 2, 1, 2, 3, 0, 1, 3, 4, 1, 1, 2, 3, 1, 2, 3, 3,\n",
       "       1, 2, 2, 3, 1, 1, 2, 1, 2, 0, 2, 1, 2, 1, 0, 1])"
      ]
     },
     "execution_count": 21,
     "metadata": {},
     "output_type": "execute_result"
    }
   ],
   "source": [
    "# If we call heads a successull flip\n",
    "# result of flipping a coin 4 times, with probability 0.5 and tested 500 times.\n",
    "import numpy as np\n",
    "n, p = 4, .5  # number of trials, probability of each trial\n",
    "s = np.random.binomial(n, p, 500)\n",
    "s"
   ]
  },
  {
   "cell_type": "code",
   "execution_count": 22,
   "metadata": {},
   "outputs": [
    {
     "data": {
      "image/png": "[encoded data removed]",
      "text/plain": [
       "<matplotlib.figure.Figure at 0x18d3f537320>"
      ]
     },
     "metadata": {},
     "output_type": "display_data"
    }
   ],
   "source": [
    "%matplotlib inline\n",
    "import matplotlib.pyplot as plt\n",
    "\n",
    "s = np.random.binomial(n, p, 500)\n",
    "\n",
    "plt.hist (s)\n",
    "plt.ylabel('Frequency')\n",
    "plt.xlabel('Flips')\n",
    "plt.title('Binomial distribution')\n",
    "\n",
    "plt.show()"
   ]
  },
  {
   "cell_type": "markdown",
   "metadata": {},
   "source": [
    "Again using our Histogram plot above we can see the distribution with the majority of 'the 4 coin-flips' resulting in heads coming up twice; A **binomial** distribution has only two possible outcomes, success or failure with a fixed number of tests and with each test being inependent.\n",
    "\n",
    "\n",
    "\n"
   ]
  },
  {
   "cell_type": "markdown",
   "metadata": {},
   "source": [
    "## 4. Poisson distribution"
   ]
  },
  {
   "cell_type": "markdown",
   "metadata": {},
   "source": [
    "The **Poisson** distribution can be used to calculate the probabilities of various numbers of \"successes\" based on the mean number of successes or occurences of an event. The parameters used are lam and size (optional, if none entered a single value is returned). lam should be a float or an array of floats and the interval should be greater or equal to zero and the size should be an integer or a tuple of integer."
   ]
  },
  {
   "cell_type": "markdown",
   "metadata": {},
   "source": [
    "An example of a Poisson Distribution would be: if the average number of glasses smashed in a restaurant kitchen per day is 3, what is the probability that 6 glasses will be smashed tomorrow? "
   ]
  },
  {
   "cell_type": "code",
   "execution_count": 24,
   "metadata": {
    "scrolled": true
   },
   "outputs": [
    {
     "data": {
      "text/plain": [
       "array([6, 4, 6, 1, 3, 2, 3, 6, 3, 4, 6, 2, 5, 2, 1, 4, 4, 3, 3, 5, 5, 3,\n",
       "       4, 1, 2, 3, 6, 4, 1, 3, 2, 2, 2, 2, 2, 3, 4, 5, 2, 9, 1, 4, 5, 2,\n",
       "       5, 1, 1, 2, 6, 2, 2, 2, 1, 2, 4, 2, 4, 7, 2, 6, 3, 0, 4, 5, 6, 3,\n",
       "       3, 5, 0, 3, 3, 1, 1, 2, 3, 1, 2, 2, 0, 4, 0, 3, 2, 3, 3, 3, 4, 3,\n",
       "       7, 4, 6, 1, 2, 2, 3, 9, 2, 4, 3, 2, 1, 2, 1, 2, 6, 4, 5, 3, 1, 5,\n",
       "       1, 3, 3, 9, 3, 5, 3, 5, 5, 2, 4, 4, 3, 3, 5, 3, 5, 1, 1, 4, 2, 2,\n",
       "       4, 7, 4, 4, 0, 5, 3, 5, 7, 5, 4, 6, 3, 2, 1, 3, 4, 4, 2, 4, 4, 2,\n",
       "       2, 3, 2, 2, 1, 0, 2, 2, 2, 4, 5, 1, 2, 4, 2, 1, 7, 6, 7, 3, 4, 3,\n",
       "       2, 3, 3, 1, 2, 0, 4, 4, 4, 2, 2, 3, 4, 2, 4, 0, 2, 0, 5, 4, 4, 3,\n",
       "       2, 7, 2, 6, 4, 2, 3, 5, 0, 1, 1, 3, 3, 7, 0, 2, 5, 3, 0, 4, 5, 4,\n",
       "       2, 1, 2, 5, 2, 1, 3, 3, 4, 4, 1, 4, 1, 7, 0, 5, 3, 6, 3, 0, 2, 1,\n",
       "       4, 6, 3, 4, 4, 4, 2, 6, 0, 4, 3, 5, 5, 2, 8, 4, 0, 3, 2, 6, 2, 2,\n",
       "       3, 0, 1, 7, 1, 1, 4, 4, 2, 2, 1, 2, 2, 5, 7, 4, 2, 2, 3, 3, 3, 4,\n",
       "       6, 2, 3, 3, 1, 6, 3, 6, 4, 2, 3, 3, 2, 1, 4, 4, 6, 8, 3, 5, 4, 2,\n",
       "       1, 3, 2, 3, 2, 1, 2, 6, 0, 4, 3, 1, 2, 4, 4, 1, 4, 1, 5, 2, 3, 4,\n",
       "       1, 4, 1, 3, 2, 4, 4, 3, 3, 2, 3, 2, 1, 4, 5, 4, 3, 4, 3, 3, 5, 0,\n",
       "       0, 3, 2, 1, 3, 4, 7, 4, 1, 3, 3, 1, 5, 3, 5, 4, 4, 2, 2, 1, 1, 4,\n",
       "       3, 1, 5, 1, 6, 4, 3, 5, 3, 5, 2, 2, 2, 2, 2, 2, 5, 3, 9, 2, 4, 3,\n",
       "       3, 4, 3, 5, 2, 2, 1, 1, 3, 1, 4, 6, 3, 1, 3, 3, 2, 1, 5, 3, 3, 2,\n",
       "       5, 4, 2, 4, 2, 7, 0, 8, 3, 1, 5, 3, 3, 6, 2, 4, 3, 3, 4, 4, 4, 4,\n",
       "       3, 0, 3, 3, 2, 5, 5, 0, 1, 1, 3, 3, 2, 1, 4, 3, 0, 3, 1, 4, 3, 2,\n",
       "       1, 5, 3, 3, 5, 6, 3, 3, 6, 6, 3, 3, 3, 2, 2, 4, 0, 2, 2, 2, 3, 2,\n",
       "       2, 3, 2, 4, 1, 4, 5, 2, 3, 2, 1, 5, 2, 3, 2, 1, 3, 4, 2, 4, 5, 2,\n",
       "       2, 0, 3, 1, 2, 1, 6, 3, 4, 6, 3, 2, 5, 2, 4, 2, 2, 2, 1, 1, 3, 9,\n",
       "       1, 2, 1, 4, 6, 2, 6, 6, 3, 3, 3, 4, 3, 4, 3, 2, 6, 4, 4, 3, 6, 5,\n",
       "       5, 2, 4, 4, 2, 4, 2, 1, 5, 0, 3, 3, 3, 4, 4, 3, 4, 4, 1, 3, 4, 2,\n",
       "       2, 5, 3, 4, 2, 4, 6, 4, 2, 2, 1, 5, 3, 3, 3, 0, 3, 3, 6, 3, 2, 5,\n",
       "       1, 1, 5, 3, 1, 6, 1, 2, 3, 7, 3, 1, 6, 4, 4, 7, 3, 4, 0, 2, 2, 5,\n",
       "       1, 1, 2, 1, 1, 5, 1, 3, 4, 3, 2, 3, 1, 4, 5, 3, 4, 3, 3, 6, 3, 1,\n",
       "       4, 2, 3, 3, 4, 3, 1, 6, 1, 4, 0, 3, 0, 6, 2, 3, 4, 2, 5, 2, 3, 5,\n",
       "       1, 2, 2, 3, 0, 3, 2, 3, 2, 4, 4, 3, 7, 2, 0, 7, 4, 4, 3, 4, 5, 2,\n",
       "       3, 2, 2, 5, 4, 3, 1, 3, 2, 1, 3, 6, 6, 3, 1, 6, 2, 2, 2, 1, 5, 2,\n",
       "       6, 5, 2, 3, 3, 2, 4, 5, 3, 6, 1, 9, 3, 6, 3, 5, 5, 4, 4, 4, 5, 5,\n",
       "       0, 6, 3, 4, 0, 0, 3, 3, 4, 2, 7, 0, 2, 0, 1, 5, 1, 0, 3, 2, 4, 6,\n",
       "       2, 2, 2, 4, 3, 1, 3, 4, 6, 1, 2, 2, 5, 5, 2, 3, 5, 1, 1, 1, 4, 3,\n",
       "       5, 3, 3, 3, 4, 2, 6, 3, 1, 4, 2, 4, 4, 3, 5, 3, 5, 1, 4, 3, 1, 4,\n",
       "       6, 5, 5, 2, 9, 5, 4, 0, 2, 2, 7, 6, 2, 4, 2, 3, 4, 0, 2, 1, 2, 1,\n",
       "       1, 3, 2, 2, 4, 1, 4, 1, 6, 1, 1, 3, 2, 3, 7, 4, 3, 3, 0, 2, 1, 2,\n",
       "       5, 7, 4, 2, 1, 4, 3, 1, 2, 3, 3, 4, 2, 2, 2, 3, 2, 3, 2, 6, 3, 5,\n",
       "       3, 5, 2, 6, 0, 3, 2, 2, 1, 1, 0, 6, 2, 4, 2, 2, 3, 2, 1, 1, 1, 3,\n",
       "       3, 5, 1, 3, 5, 1, 1, 3, 3, 0, 4, 3, 6, 1, 2, 3, 6, 1, 5, 3, 4, 1,\n",
       "       3, 5, 5, 4, 8, 6, 1, 6, 3, 3, 1, 0, 0, 3, 1, 2, 4, 4, 0, 1, 3, 3,\n",
       "       3, 1, 3, 3, 1, 2, 3, 2, 3, 5, 5, 2, 1, 4, 3, 1, 4, 4, 4, 2, 6, 5,\n",
       "       5, 3, 3, 1, 2, 5, 1, 4, 2, 4, 3, 3, 3, 3, 4, 3, 2, 4, 3, 4, 5, 6,\n",
       "       2, 2, 4, 4, 2, 3, 4, 4, 5, 3, 2, 2, 4, 3, 3, 2, 1, 3, 1, 2, 3, 2,\n",
       "       6, 1, 5, 4, 4, 3, 6, 5, 0, 2])"
      ]
     },
     "execution_count": 24,
     "metadata": {},
     "output_type": "execute_result"
    }
   ],
   "source": [
    "import numpy as np\n",
    "poisson = np.random.poisson(3, 1000) \n",
    "poisson"
   ]
  },
  {
   "cell_type": "code",
   "execution_count": 25,
   "metadata": {},
   "outputs": [
    {
     "data": {
      "image/png": "[encoded data removed]",
      "text/plain": [
       "<matplotlib.figure.Figure at 0x18d3f4c2198>"
      ]
     },
     "metadata": {},
     "output_type": "display_data"
    }
   ],
   "source": [
    "%matplotlib inline\n",
    "import matplotlib.pyplot as plt\n",
    "\n",
    "poisson = np.random.poisson(3, 1000)\n",
    "\n",
    "plt.hist (poisson)\n",
    "plt.ylabel('Frequency')\n",
    "plt.xlabel('Glasses smashed')\n",
    "plt.title('Poisson distribution')\n",
    "\n",
    "plt.show()"
   ]
  },
  {
   "cell_type": "markdown",
   "metadata": {},
   "source": [
    "From the Histogram we can estimate that from a sample size of 1000 days with the average numbers of glasses smashed in a day being 3, the probability of 6 glasses being smashed in a day is approx 46 out of 1000 or 0.046.\n",
    "\n",
    "\n",
    "\n",
    "\n"
   ]
  },
  {
   "cell_type": "markdown",
   "metadata": {},
   "source": [
    "## 5. Standard Normal distribution"
   ]
  },
  {
   "cell_type": "markdown",
   "metadata": {},
   "source": [
    "The **standard Normal** distribution is usually is used in hypothesis testing.\n",
    "\n",
    "The **numpy.random.standard_normal** function draws samples from a standard Normal distribution (mean=0, stdev=1). It is the distribution that occurs when a normal random variable has a mean of zero and a standard deviation of one. Parameter used is size, and is optional, size should be an integer or a tuple of integers.\n",
    "\n",
    "The normal random variable of a standard normal distribution is called a standard score or a z-score. Every normal random variable X can be transformed into a z score via the z-score transformation equation z = (X - μ) / σ \n",
    "\n",
    "where X is a normal random variable, μ is the mean of X, and σ is the standard deviation of X. [7]\n",
    "\n",
    "\n",
    "\n"
   ]
  },
  {
   "cell_type": "markdown",
   "metadata": {},
   "source": [
    "**Illustrative example:**, see ref.[7]\n",
    "\n",
    "Molly earned a score of 940 on a national achievement test. The mean test score was 850 with a standard deviation of 100. What proportion of students had a higher score than Molly? (Assume that test scores are normally distributed.)\n",
    "\n",
    "Given an assumption of normality, the solution involves three steps. \n",
    "- First, we transform Molly's test score into a z-score, using the z-score transformation equation.\n",
    "z = (X - μ) / σ = **(940 - 850) / 100 = 0.90**\n",
    "\n",
    "- Then, using the standard normal distribution table, we find the cumulative probability associated with the z-score. In this case, we find **P(Z < 0.90) = 0.8159.**\n",
    "\n",
    "- Therefore, the P(Z > 0.90) = 1 - P(Z < 0.90) = **1 - 0.8159 = 0.1841.**\n",
    "\n",
    "Thus, we estimate that 18.41 percent of the students tested had a higher score than Molly. \n",
    "\n",
    "\n",
    "\n",
    "\n",
    "\n",
    "\n"
   ]
  },
  {
   "cell_type": "markdown",
   "metadata": {},
   "source": [
    "\n",
    "\n",
    "## Random Generator Section:\n",
    "## The use of seeds in generating pseudorandom numbers."
   ]
  },
  {
   "cell_type": "markdown",
   "metadata": {},
   "source": [
    "\n",
    "\n",
    "The use of randomness is an important part of the configuration and evaluation of machine learning algorithms.\n",
    "\n",
    "From the random initialization of weights in an artificial neural network, to the splitting of data into random train and test sets, to the random shuffling of a training dataset in stochastic gradient descent, generating random numbers and harnessing randomness is a required skill. [3]\n",
    "\n",
    "Computers cannot pick random numbers. Pseudorandom number generators are computer software packages that create numbers which appear to be random but in reality are predictable when the algorithm used to create these values is known. Computers are deterministic machines which means that their functions can be predictable and repeatable. This can be troublesome in the persuit of generating truely random numbers. \n",
    "\n",
    "The four functions listed in this Random Generator all relate to the use of Seeds.\n",
    "\n",
    "These Random generators make use of mathematical operations, series and special operators called \"seeds\". A seed is the key component in the generation of random numbers (a lot of computers use the state of the computer system as the seed, such as the time on the computer that the generator was run). Depending on what type of pseudorandom number generator being used, the seed feeds into a specified mathematical operation, such as the middle squares method or an operation that includes the apparent infinite series of decimals in the number \"Pi\". \n",
    "\n",
    "\"Pi\" is one example of a commonly used Seed, \"Pi\" has an decimal expanison that never repeats a pattern and never ends 3.14159265359.......The basic idea is to go to some point in the decimal expansion, say decimal expansion point 7 and use this as the start point, this is called the seed.\n",
    "\n",
    "The result is a pseudorandom number or pseudorandom sequence of numbers depending on the mathematical operation. The seed is the crutial aspect in the generation of pseudorandom numbers. If the seed and the mathematical operation is known the pseudorandom numbers generated can be replicated. \n",
    "\n",
    "Pseudorandom number generators are often used in cryptography, to encrypt messages and for data security when being transmitted online. To this end some seeds are extremely long and complex to ensure it is almost impossible to crack the encryption in any reasonable length of time.\n",
    "\n",
    "\n"
   ]
  },
  {
   "cell_type": "markdown",
   "metadata": {},
   "source": [
    "## References:"
   ]
  },
  {
   "cell_type": "markdown",
   "metadata": {},
   "source": [
    "1. https://docs.scipy.org/doc/numpy-1.15.1/reference/routines.random.html\n",
    "2. https://stattrek.com/probability-distributions/binomial.aspx?tutorial=prob\n",
    "3. https://machinelearningmastery.com/how-to-generate-random-numbers-in-python/\n",
    "4. http://onlinestatbook.com/2/index.html\n",
    "5. http://reliawiki.org/index.php/The_Exponential_Distribution\n",
    "6. https://www.ling.upenn.edu/~clight/chisquared.htm\n",
    "7. https://stattrek.com/probability-distributions/standard-normal.aspx?Tutorial=AP\n"
   ]
  }
 ],
 "metadata": {
  "kernelspec": {
   "display_name": "Python 3",
   "language": "python",
   "name": "python3"
  },
  "language_info": {
   "codemirror_mode": {
    "name": "ipython",
    "version": 3
   },
   "file_extension": ".py",
   "mimetype": "text/x-python",
   "name": "python",
   "nbconvert_exporter": "python",
   "pygments_lexer": "ipython3",
   "version": "3.6.4"
  }
 },
 "nbformat": 4,
 "nbformat_minor": 2
}
